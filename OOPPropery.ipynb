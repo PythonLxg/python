{
 "cells": [
  {
   "cell_type": "code",
   "execution_count": 1,
   "metadata": {
    "collapsed": true
   },
   "outputs": [
    {
     "name": "stdout",
     "output_type": "stream",
     "text": [
      "18\n666\n{'_Person__age': 666}\n"
     ]
    }
   ],
   "source": [
    "# 最好的设置只读属性方法\n",
    "class Person:\n",
    "    \n",
    "    def __init__(self):\n",
    "        self.__age = 18     # 伪私有\n",
    "        \n",
    "    @property       # 可以以使用属性的方式，来使用这个方法。用作只读属性\n",
    "    def age(self):       # 公开的方法,只读属性方法\n",
    "        return self.__age\n",
    "\n",
    "\n",
    "p = Person()\n",
    "print(p.age)        # 能看\n",
    "# p.age = 20 不能修改，不能增加实例属性\n",
    "p._Person__age = 666    # 通过这个可以修改私有属性，也可以通过p.__dict__['_Person__age'] = 666修改 \n",
    "print(p.age)\n",
    "print(p.__dict__)"
   ]
  },
  {
   "cell_type": "code",
   "execution_count": 2,
   "metadata": {},
   "outputs": [
    {
     "name": "stdout",
     "output_type": "stream",
     "text": [
      "(<class 'object'>,)\n(<class 'object'>,)\n"
     ]
    }
   ],
   "source": [
    "class Person(object):\n",
    "    pass\n",
    "\n",
    "\n",
    "class Animal:\n",
    "    pass\n",
    "\n",
    "\n",
    "print(Person.__bases__)     # 新式类，继承object类\n",
    "print(Animal.__bases__)"
   ]
  },
  {
   "cell_type": "code",
   "execution_count": 3,
   "metadata": {},
   "outputs": [
    {
     "name": "stdout",
     "output_type": "stream",
     "text": [
      "----, get\n18\n----, set\n----, get\n20\n{'_Person__age': 20}\n"
     ]
    }
   ],
   "source": [
    "# 第一种使用property方法\n",
    "class Person:\n",
    "    \n",
    "    def __init__(self):\n",
    "        self.__age = 18\n",
    "        \n",
    "    def get_age(self):\n",
    "        print('----, get')\n",
    "        return self.__age\n",
    "    \n",
    "    def set_age(self, value):\n",
    "        print('----, set')\n",
    "        self.__age = value\n",
    "        \n",
    "    def del_age(self):\n",
    "        del self.__age\n",
    "        \n",
    "    age = property(get_age, set_age, del_age)\n",
    "    \n",
    "    \n",
    "p = Person()\n",
    "print(p.age)\n",
    "p.age = 20      # 会执行set_age()\n",
    "print(p.age)\n",
    "print(p.__dict__)"
   ]
  },
  {
   "cell_type": "code",
   "execution_count": 4,
   "metadata": {},
   "outputs": [
    {
     "name": "stdout",
     "output_type": "stream",
     "text": [
      "----, get\n18\n----, set\n----, get\n20\n{'_Person__age': 20}\n"
     ]
    }
   ],
   "source": [
    "# 第二种使用property方法\n",
    "class Person:\n",
    "    \n",
    "    def __init__(self):\n",
    "        self.__age = 18\n",
    " \n",
    "    @property       \n",
    "    def age(self):\n",
    "        print('----, get')\n",
    "        return self.__age\n",
    "    \n",
    "    @age.setter      \n",
    "    def age(self, value):\n",
    "        print('----, set')\n",
    "        self.__age = value\n",
    "        \n",
    "    @age.deleter\n",
    "    def age(self):\n",
    "        del self.__age\n",
    " \n",
    "        \n",
    "p = Person()\n",
    "print(p.age)\n",
    "p.age = 20\n",
    "print(p.age)\n",
    "print(p.__dict__)"
   ]
  },
  {
   "cell_type": "code",
   "execution_count": 5,
   "metadata": {},
   "outputs": [
    {
     "name": "stdout",
     "output_type": "stream",
     "text": [
      "age 18\n18\n{'age': 18}\nage 666\n这个属性是只读属性，不能修改\n18\n{'age': 18}\n"
     ]
    }
   ],
   "source": [
    "class Person:\n",
    "    # 当我们通过实例.属性 =值，给实例增加一个属性，或者修改一个属性的时候都会调用这个方法\n",
    "    # 方法的内部会会把这个属性及对应的数据，给存储在__dict__字典里\n",
    "    def __setattr__(self, key, value):\n",
    "        print(key, value)\n",
    "        if key == 'age' and key in self.__dict__.keys():\n",
    "            print('这个属性是只读属性，不能修改')\n",
    "        else:\n",
    "            self.__dict__[key] = value\n",
    "\n",
    "\n",
    "p = Person()\n",
    "p.age = 18\n",
    "print(p.age)\n",
    "print(p.__dict__)\n",
    "p.age = 666\n",
    "print(p.age)\n",
    "print(p.__dict__)"
   ]
  },
  {
   "cell_type": "code",
   "execution_count": 6,
   "metadata": {},
   "outputs": [
    {
     "name": "stdout",
     "output_type": "stream",
     "text": [
      "{'__module__': '__main__', '__doc__': '\\n    这是一个表示人的类\\n    ', 'age': 18, '__init__': <function Person.__init__ at 0x000001DAF97CF510>, 'run': <function Person.run at 0x000001DAF97CF598>, '__dict__': <attribute '__dict__' of 'Person' objects>, '__weakref__': <attribute '__weakref__' of 'Person' objects>}\n(<class 'object'>,)\n\n    这是一个表示人的类\n    \nPerson\n__main__\n{'name': 'li'}\n<class '__main__.Person'>\n"
     ]
    }
   ],
   "source": [
    "# 内置特殊属性\n",
    "class Person:\n",
    "    \"\"\"\n",
    "    这是一个表示人的类\n",
    "    \"\"\"\n",
    "    age = 18\n",
    "    \n",
    "    def __init__(self):\n",
    "        self.name = 'li'\n",
    "        \n",
    "    def run(self):\n",
    "        print('run')\n",
    "     \n",
    "        \n",
    "# 类属性       \n",
    "print(Person.__dict__)      # 类的属性\n",
    "print(Person.__bases__)     # 类的所有父类构成的元组\n",
    "print(Person.__doc__)       # 类的文档字符串\n",
    "print(Person.__name__)      # 类名\n",
    "print(Person.__module__)        # 类定义所在的模块\n",
    "# 实例属性\n",
    "p = Person()\n",
    "print(p.__dict__)       # 实例的属性\n",
    "print(p.__class__)      # 实例对应的类"
   ]
  },
  {
   "cell_type": "code",
   "execution_count": null,
   "metadata": {},
   "outputs": [],
   "source": []
  }
 ],
 "metadata": {
  "kernelspec": {
   "display_name": "Python 2",
   "language": "python",
   "name": "python2"
  },
  "language_info": {
   "codemirror_mode": {
    "name": "ipython",
    "version": 2
   },
   "file_extension": ".py",
   "mimetype": "text/x-python",
   "name": "python",
   "nbconvert_exporter": "python",
   "pygments_lexer": "ipython2",
   "version": "2.7.6"
  }
 },
 "nbformat": 4,
 "nbformat_minor": 0
}
