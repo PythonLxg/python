{
 "cells": [
  {
   "cell_type": "code",
   "execution_count": 1,
   "metadata": {
    "collapsed": true
   },
   "outputs": [
    {
     "name": "stdout",
     "output_type": "stream",
     "text": [
      "1\nNone\n"
     ]
    }
   ],
   "source": [
    "# 闭包：在函数嵌套的前提下，内层函数引用了外层函数的变量，外层函数又把内层函数当作返回值返回\n",
    "def t():\n",
    "    a = 1\n",
    "    def t1():\n",
    "        print(a)\n",
    "    return t1\n",
    "\n",
    "\n",
    "h = t()\n",
    "h1 = h()\n",
    "print(h1)"
   ]
  },
  {
   "cell_type": "code",
   "execution_count": 2,
   "metadata": {},
   "outputs": [
    {
     "name": "stdout",
     "output_type": "stream",
     "text": [
      "----------nihao----------\n----------nihao----------\n--------------------hello--------------------\n--------------------hello--------------------\n"
     ]
    }
   ],
   "source": [
    "# 案例\n",
    "def test(content, num):\n",
    "    def test1():\n",
    "        print('-' * (num // 2) + content + '-' * (num // 2))\n",
    "    return test1\n",
    "\n",
    "\n",
    "t = test('nihao', 20)\n",
    "t1 = t()\n",
    "t2 = t()\n",
    "t = test('hello', 40)\n",
    "t3 = t()\n",
    "t4 = t()"
   ]
  },
  {
   "cell_type": "code",
   "execution_count": null,
   "metadata": {},
   "outputs": [],
   "source": [
    "# 注意事项\n",
    "# 1：闭包中，如果要修改引用的外层变量，需要使用nonlocal变量声明，负责当作是闭包内新定义的变量，没有修改外部的变量\n",
    "def test():\n",
    "    num = 2\n",
    "    def test1():\n",
    "        num = 666\n",
    "        print(num)\n",
    "    print(num)\n",
    "    test1()\n",
    "    print(num)\n",
    "    return test1\n",
    "\n",
    "\n",
    "result = test()\n",
    "\n",
    "def t():\n",
    "    num = 2\n",
    "    def t1():\n",
    "        nonlocal num\n",
    "        num = 666\n",
    "        print(num)\n",
    "    print(num)\n",
    "    t1()\n",
    "    print(num)\n",
    "    return t1\n",
    "\n",
    "\n",
    "result = t()\n",
    "# 2:当闭包内引用了一个后期回发生改变的变量时，一定要注意函数只有被调用时才会被执行\n",
    "\n",
    "\n",
    "def tt():\n",
    "    num = 6\n",
    "    def ttt():\n",
    "        print(num)\n",
    "    num = 666\n",
    "    return ttt\n",
    "\n",
    "\n",
    "res = tt()\n",
    "res()\n"
   ]
  },
  {
   "cell_type": "code",
   "execution_count": null,
   "metadata": {},
   "outputs": [],
   "source": []
  }
 ],
 "metadata": {
  "kernelspec": {
   "display_name": "Python 2",
   "language": "python",
   "name": "python2"
  },
  "language_info": {
   "codemirror_mode": {
    "name": "ipython",
    "version": 2
   },
   "file_extension": ".py",
   "mimetype": "text/x-python",
   "name": "python",
   "nbconvert_exporter": "python",
   "pygments_lexer": "ipython2",
   "version": "2.7.6"
  }
 },
 "nbformat": 4,
 "nbformat_minor": 0
}
