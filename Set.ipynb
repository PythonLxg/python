{
 "cells": [
  {
   "cell_type": "code",
   "execution_count": 3,
   "metadata": {
    "collapsed": true
   },
   "outputs": [
    {
     "name": "stdout",
     "output_type": "stream",
     "text": [
      "{1, 2, 3} <class 'set'>\n{'a', 'c', 'b'} {1, 2, 3} <class 'set'> <class 'set'>\n{0, 1, 2, 3, 4, 5, 6, 7, 8, 9} <class 'set'>\n{0, 1, 2, 3, 4, 5, 6, 7, 8, 9} <class 'set'>\n"
     ]
    }
   ],
   "source": [
    "# 集合分为可变集合（set）和不可变集合（frozenset）\n",
    "# 无序的，不可随机访问，不可重复\n",
    "# 可变集合创建方式\n",
    "s = {1, 2, 3, 1}\n",
    "print(s, type(s))\n",
    "\n",
    "s1 = set('abc')\n",
    "s2 = set([1, 2, 3])\n",
    "print(s1, s2, type(s1), type(s2))\n",
    "\n",
    "s3 = set(x for x in range(10))\n",
    "s4 = {x for x in range(10)}\n",
    "print(s3, type(s3))\n",
    "print(s4, type(s4))"
   ]
  },
  {
   "cell_type": "code",
   "execution_count": 6,
   "metadata": {},
   "outputs": [
    {
     "name": "stdout",
     "output_type": "stream",
     "text": [
      "frozenset({'a', 'c', 'b'}) <class 'frozenset'>\nfrozenset({1, 2, 3}) <class 'frozenset'>\nfrozenset({0, 64, 4, 36, 16}) <class 'frozenset'>\n"
     ]
    }
   ],
   "source": [
    "# 创建不可变集合（frozenset）\n",
    "fs = frozenset('abc')       # 括号里是可迭代对象\n",
    "fs1 = frozenset({1, 2, 3})\n",
    "print(fs, type(fs))\n",
    "print(fs1, type(fs1))\n",
    "\n",
    "s = frozenset(x ** 2 for x in range(10) if x % 2 == 0)\n",
    "print(s, type(s))"
   ]
  },
  {
   "cell_type": "code",
   "execution_count": 11,
   "metadata": {},
   "outputs": [
    {
     "name": "stdout",
     "output_type": "stream",
     "text": [
      "{(1, 2), 1, 2, 'abc'} <class 'set'>\nset()\n{1, 2, 3, 4}\n[1, 2, 3, 4]\n"
     ]
    }
   ],
   "source": [
    "s = {1, 2, 'abc', (1, 2)}     # 元素必须是可哈希的（hashable），即可理解为不可变类型\n",
    "print(s, type(s))\n",
    "\n",
    "s1 = set()      # 创建空集合，不可以用s1 = {}\n",
    "print(s1)\n",
    "\n",
    "l1 = [1, 2, 3, 4]\n",
    "s = set(l1)\n",
    "print(s)\n",
    "result = list(s)\n",
    "print(result)"
   ]
  },
  {
   "cell_type": "code",
   "execution_count": 19,
   "metadata": {},
   "outputs": [
    {
     "name": "stdout",
     "output_type": "stream",
     "text": [
      "{1, 2, 3, 4, (5, 6)}\nNone {1, 2}\n1 {2, 3, 4, 7}\nNone set()\n1\n2\n3\n1\n2\n3\n"
     ]
    }
   ],
   "source": [
    "# 常用操作\n",
    "# 单一集合操作\n",
    "# 增\n",
    "d = {1, 2, 3}\n",
    "d.add(4)\n",
    "d.add((5, 6))       # 必须是hashable\n",
    "print(d)\n",
    "# 删\n",
    "s = {1, 2, 3}\n",
    "result = s.remove(3)        # 如果没有指定元素则报错\n",
    "print(result, s)\n",
    "s1 = {3, 4, 7, 1, 2}\n",
    "result = s1.pop()       # 随机删除一个元素，若集合为空，则返回一个错误\n",
    "print(result, s1)\n",
    "s2 = {1, 2, 3}\n",
    "c = s2.clear()      # 删除集合所有元素\n",
    "print(c, s2)\n",
    "# 改\n",
    "# 元素不可变，不能修改\n",
    "\n",
    "# 查\n",
    "ss = {1, 2, 3}\n",
    "for s in ss:\n",
    "    print(s)\n",
    "its = iter(ss)\n",
    "for i in its:\n",
    "    print(i)"
   ]
  },
  {
   "cell_type": "code",
   "execution_count": 27,
   "metadata": {},
   "outputs": [
    {
     "name": "stdout",
     "output_type": "stream",
     "text": [
      "{2, 5, 7} <class 'set'> {2, 5, 7}\n{2, 5, 7} <class 'set'> {2, 5, 7, 8, 9}\nfrozenset({2, 5, 7}) <class 'frozenset'>\nNone {2, 5, 7}\nfrozenset({2, 5, 7}) <class 'frozenset'>\n"
     ]
    }
   ],
   "source": [
    "# 集合之间的操作\n",
    "s1 = {1, 2, 3, 4, 5, 7}\n",
    "s2 = {2, 5, 7, 9, 8}\n",
    "s3 = frozenset([2, 5, 7, 9, 8])\n",
    "r1 = s1.intersection(s2)        # 可迭代对象都可以实现 交集（intersection），逻辑与 &\n",
    "r2 = s1.intersection(s3)        # 并集（union），逻辑或 |，也可以用update方法\n",
    "r3 = s3.intersection(s1)        # 差集（difference），算术运算符减 -，\n",
    "r4 = s1.intersection_update(s2) \n",
    "r5 = s3 & s1\n",
    "print(r1, type(r1), s1)\n",
    "print(r2, type(r2), s2)\n",
    "print(r3, type(r3))\n",
    "print(r4, s1)\n",
    "print(r5, type(r5))"
   ]
  },
  {
   "cell_type": "code",
   "execution_count": 32,
   "metadata": {},
   "outputs": [
    {
     "name": "stdout",
     "output_type": "stream",
     "text": [
      "False\nFalse\nFalse\n"
     ]
    }
   ],
   "source": [
    "# 判定\n",
    "s1 = {1, 2, 5}\n",
    "s2 = {1, 2, 3, 4}\n",
    "print(s1.isdisjoint(s2))        # 判定两集合是否不相交\n",
    "print(s1.issuperset(s2))        # 判定一个集合是否包含另一个集合\n",
    "print(s1.issubset(s2))        # 判定一个集合是否包含于另一个集合"
   ]
  },
  {
   "cell_type": "code",
   "execution_count": null,
   "metadata": {},
   "outputs": [],
   "source": []
  }
 ],
 "metadata": {
  "kernelspec": {
   "display_name": "Python 2",
   "language": "python",
   "name": "python2"
  },
  "language_info": {
   "codemirror_mode": {
    "name": "ipython",
    "version": 2
   },
   "file_extension": ".py",
   "mimetype": "text/x-python",
   "name": "python",
   "nbconvert_exporter": "python",
   "pygments_lexer": "ipython2",
   "version": "2.7.6"
  }
 },
 "nbformat": 4,
 "nbformat_minor": 0
}
