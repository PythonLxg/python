{
 "cells": [
  {
   "cell_type": "code",
   "execution_count": 1,
   "metadata": {
    "collapsed": true
   },
   "outputs": [
    {
     "name": "stdout",
     "output_type": "stream",
     "text": [
      "<generator object <genexpr> at 0x0000027505226F68> <class 'generator'>\n0\n2\n<generator object test at 0x0000027505226FC0> <class 'generator'>\n1\n2\n3\n"
     ]
    }
   ],
   "source": [
    "# 生成器：特殊迭代器，有迭代器一切特性\n",
    "# 创建方式一:生成器表达式\n",
    "l = (i for i in range(10000000) if i % 2 == 0)\n",
    "print(l, type(l))\n",
    "print(l.__next__())         # 也可以通过 for i in l:print(i)查找\n",
    "print(next(l))\n",
    "# 创建方式二:生成器函数,yield可以阻断函数进行，用next()或__next__()可以让函数继续直到yield，没有值时会报错\n",
    "\n",
    "\n",
    "def test():\n",
    "    for i in range(1, 9):\n",
    "        yield i\n",
    "   \n",
    "    \n",
    "g = test()      # 没有开始执行\n",
    "print(g, type(g))   # 开始执行\n",
    "print(next(g))\n",
    "print(g.__next__())\n",
    "print(g.__next__())"
   ]
  },
  {
   "cell_type": "code",
   "execution_count": 2,
   "metadata": {},
   "outputs": [
    {
     "name": "stdout",
     "output_type": "stream",
     "text": [
      "1\nooo\n2\n"
     ]
    }
   ],
   "source": [
    "# send方法,参数指定的是上一次被挂起的yield语句的返回值\n",
    "def test():\n",
    "    res = yield 1   # res = 'ooo'\n",
    "    print(res)     \n",
    "    res1 = yield 2\n",
    "    print(res1)\n",
    "\n",
    "\n",
    "g = test()\n",
    "print(g.send(None))\n",
    "print(g.send('ooo'))"
   ]
  },
  {
   "cell_type": "code",
   "execution_count": 3,
   "metadata": {},
   "outputs": [
    {
     "name": "stdout",
     "output_type": "stream",
     "text": [
      "1\n"
     ]
    }
   ],
   "source": [
    "# 关闭生成器\n",
    "def test():\n",
    "    yield 1\n",
    "    print('a')\n",
    "    yield 2\n",
    "    print('b')\n",
    "    \n",
    "\n",
    "g = test()\n",
    "print(g.__next__())\n",
    "g.close()       # 关闭生成器,之后如果继续调用会报错"
   ]
  },
  {
   "cell_type": "code",
   "execution_count": 4,
   "metadata": {},
   "outputs": [
    {
     "name": "stdout",
     "output_type": "stream",
     "text": [
      "1\na\n"
     ]
    },
    {
     "ename": "StopIteration",
     "evalue": "10",
     "traceback": [
      "\u001b[0;31m---------------------------------------------------------------------------\u001b[0m",
      "\u001b[0;31mStopIteration\u001b[0m                             Traceback (most recent call last)",
      "\u001b[0;32m<ipython-input-4-8e435580f866>\u001b[0m in \u001b[0;36m<module>\u001b[0;34m()\u001b[0m\n\u001b[1;32m     10\u001b[0m \u001b[0mg\u001b[0m \u001b[0;34m=\u001b[0m \u001b[0mtest\u001b[0m\u001b[0;34m(\u001b[0m\u001b[0;34m)\u001b[0m\u001b[0;34m\u001b[0m\u001b[0m\n\u001b[1;32m     11\u001b[0m \u001b[0mprint\u001b[0m\u001b[0;34m(\u001b[0m\u001b[0mnext\u001b[0m\u001b[0;34m(\u001b[0m\u001b[0mg\u001b[0m\u001b[0;34m)\u001b[0m\u001b[0;34m)\u001b[0m\u001b[0;34m\u001b[0m\u001b[0m\n\u001b[0;32m---> 12\u001b[0;31m \u001b[0mprint\u001b[0m\u001b[0;34m(\u001b[0m\u001b[0mnext\u001b[0m\u001b[0;34m(\u001b[0m\u001b[0mg\u001b[0m\u001b[0;34m)\u001b[0m\u001b[0;34m)\u001b[0m\u001b[0;34m\u001b[0m\u001b[0m\n\u001b[0m",
      "\u001b[0;31mStopIteration\u001b[0m: 10"
     ],
     "output_type": "error"
    }
   ],
   "source": [
    "# 碰到returnt语句会直接中止，抛出异常\n",
    "def test():\n",
    "    yield 1\n",
    "    print('a')\n",
    "    return 10\n",
    "    yield 2\n",
    "    print('b')\n",
    "\n",
    "\n",
    "g = test()\n",
    "print(next(g))\n",
    "print(next(g))"
   ]
  },
  {
   "cell_type": "code",
   "execution_count": 5,
   "metadata": {},
   "outputs": [
    {
     "name": "stdout",
     "output_type": "stream",
     "text": [
      "1\na\n2\nb\n--------------------\n"
     ]
    }
   ],
   "source": [
    "# 生成器只能遍历一遍\n",
    "def test():\n",
    "    yield 1\n",
    "    print('a')\n",
    "    yield 2\n",
    "    print('b')\n",
    "    \n",
    "\n",
    "g = test()\n",
    "for i in g:\n",
    "    print(i)        # 可以打印’b‘\n",
    "print('-'*20)   \n",
    "for i in g:         # 要想再遍历，可以重新创建g = test()\n",
    "    print(i)"
   ]
  },
  {
   "cell_type": "code",
   "execution_count": 6,
   "metadata": {},
   "outputs": [
    {
     "name": "stdout",
     "output_type": "stream",
     "text": [
      "362880\n"
     ]
    }
   ],
   "source": [
    "# 递归函数：函数A内部调用函数A\n",
    "# 案例：计算n的阶乘\n",
    "\n",
    "\n",
    "def jiecheng(n):\n",
    "    if n == 1:\n",
    "        return 1\n",
    "    return n * jiecheng(n-1)\n",
    "\n",
    "\n",
    "print(jiecheng(9))"
   ]
  },
  {
   "cell_type": "code",
   "execution_count": null,
   "metadata": {},
   "outputs": [],
   "source": []
  }
 ],
 "metadata": {
  "kernelspec": {
   "display_name": "Python 2",
   "language": "python",
   "name": "python2"
  },
  "language_info": {
   "codemirror_mode": {
    "name": "ipython",
    "version": 2
   },
   "file_extension": ".py",
   "mimetype": "text/x-python",
   "name": "python",
   "nbconvert_exporter": "python",
   "pygments_lexer": "ipython2",
   "version": "2.7.6"
  }
 },
 "nbformat": 4,
 "nbformat_minor": 0
}
