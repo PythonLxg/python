{
 "cells": [
  {
   "cell_type": "code",
   "execution_count": 1,
   "metadata": {
    "collapsed": true
   },
   "outputs": [
    {
     "name": "stdout",
     "output_type": "stream",
     "text": [
      "['小黑', '小黄'] 1651949858376\n['小黑', '小黄', '小花'] 1651949858376\n23\n{'age': 23, 'pets': ['小黑', '小黄', '小花']}\n"
     ]
    }
   ],
   "source": [
    "# 定义一个类\n",
    "class Person:\n",
    "    pass\n",
    "\n",
    "\n",
    "# 对象属性的增，删，改，查\n",
    "p = Person()        # 根据类创建一个对象\n",
    "p.age = 18          # 给对象增加属性\n",
    "p.age = 23          # 修改对象属性\n",
    "p.pets = ['小黑', '小黄']\n",
    "print(p.pets, id(p.pets))\n",
    "p.pets.append('小花')     # 访问操作，操作的是列表，id不变。如果是p.pets = ['小黑', '小黄','小花'],则是修改操作，id会改变。\n",
    "print(p.pets, id(p.pets))\n",
    "print(p.age)        # 当访问不存在的属性时会报错\n",
    "print(p.__dict__)       # 打印对象所有属性\n",
    "# 删除属性：del p.age"
   ]
  },
  {
   "cell_type": "code",
   "execution_count": 2,
   "metadata": {},
   "outputs": [
    {
     "name": "stdout",
     "output_type": "stream",
     "text": [
      "22\n1\n{'__module__': '__main__', 'age': 22, 'num': 666, '__dict__': <attribute '__dict__' of 'Money' objects>, '__weakref__': <attribute '__weakref__' of 'Money' objects>, '__doc__': None, 'count': 1}\n<class '__main__.Money'>\n22\n1\n111\n1\n"
     ]
    }
   ],
   "source": [
    "# 定义一个类\n",
    "class Money:            # 类属于特殊的对象\n",
    "    age = 1\n",
    "    num = 666       # 也可以在类里面添加属性\n",
    "\n",
    "\n",
    "# 类属性的增，删，改，查\n",
    "Money.count = 1     # 给类增加属性\n",
    "Money.age = 22      # 修改类属性\n",
    "print(Money.age)        # 访问操作\n",
    "print(Money.count)\n",
    "print(Money.__dict__)\n",
    "one = Money()\n",
    "print(one.__class__)\n",
    "print(one.age)      # 访问操作\n",
    "\n",
    "print(Money.count)\n",
    "one.count = 111     # 修改了one对象属性，Money类属性没变\n",
    "print(one.count)\n",
    "print(Money.count)\n",
    "\n",
    "# del 类名.属性    不能通过对象属性删除类属性"
   ]
  },
  {
   "cell_type": "code",
   "execution_count": 3,
   "metadata": {},
   "outputs": [],
   "source": [
    "# 一般情况下，属性存储在__dict__字典中，\n",
    "# 一般情况下，对象可以直接修改__dict__属性\n",
    "# 类的__dict__为只读，默认无法修改，但可以通过setattr方法修改"
   ]
  },
  {
   "cell_type": "code",
   "execution_count": 4,
   "metadata": {},
   "outputs": [],
   "source": [
    "# 限制对象属性的添加\n",
    "class Person:\n",
    "    __slots__ = ['age']         # 通过Person类创建的对象只能添加age属性，不能添加其他属性\n",
    "    pass\n",
    "\n",
    "\n",
    "p = Person()\n",
    "p.age = 18\n",
    "# p.num = 2     # 不能添加num属性\n",
    "print(p.age)"
   ]
  },
  {
   "cell_type": "code",
   "execution_count": null,
   "metadata": {},
   "outputs": [],
   "source": []
  }
 ],
 "metadata": {
  "kernelspec": {
   "display_name": "Python 2",
   "language": "python",
   "name": "python2"
  },
  "language_info": {
   "codemirror_mode": {
    "name": "ipython",
    "version": 2
   },
   "file_extension": ".py",
   "mimetype": "text/x-python",
   "name": "python",
   "nbconvert_exporter": "python",
   "pygments_lexer": "ipython2",
   "version": "2.7.6"
  }
 },
 "nbformat": 4,
 "nbformat_minor": 0
}
