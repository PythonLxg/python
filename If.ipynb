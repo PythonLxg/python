{
 "cells": [
  {
   "cell_type": "code",
   "execution_count": 1,
   "metadata": {
    "collapsed": true
   },
   "outputs": [
    {
     "name": "stdout",
     "output_type": "stream",
     "text": [
      "你已经成年\n赶紧回家吃饭\n"
     ]
    }
   ],
   "source": [
    "# 单分支判断\n",
    "age = 19\n",
    "if age >= 18:\n",
    "    print('你已经成年')\n",
    "print('赶紧回家吃饭')"
   ]
  },
  {
   "cell_type": "code",
   "execution_count": 2,
   "metadata": {},
   "outputs": [
    {
     "name": "stdout",
     "output_type": "stream",
     "text": [
      "赶紧回家吃饭\n"
     ]
    }
   ],
   "source": [
    "# 单分支判断\n",
    "age = 16\n",
    "if age >= 18:\n",
    "    print('你已经成年')\n",
    "print('赶紧回家吃饭')"
   ]
  },
  {
   "cell_type": "code",
   "execution_count": 3,
   "metadata": {},
   "outputs": [
    {
     "name": "stdout",
     "output_type": "stream",
     "text": [
      "赶紧回家吃饭\n"
     ]
    }
   ],
   "source": [
    "# 双分支判断\n",
    "age = 16\n",
    "if age >= 18:\n",
    "    print('你已经成年，可以去上网')\n",
    "else:\n",
    "    print('赶紧回家吃饭')"
   ]
  },
  {
   "cell_type": "code",
   "execution_count": 4,
   "metadata": {},
   "outputs": [
    {
     "name": "stdout",
     "output_type": "stream",
     "text": [
      "不及格\n"
     ]
    }
   ],
   "source": [
    "# if嵌套\n",
    "score = 59\n",
    "if 90 <= score <= 100:\n",
    "    print('优秀')\n",
    "else:\n",
    "    if 80 <= score < 90:\n",
    "        print('良好')\n",
    "    else:\n",
    "        if 60 <= score < 80:\n",
    "            print('一般')\n",
    "        else:\n",
    "            if 0 <= score < 60:\n",
    "                print('不及格')"
   ]
  },
  {
   "cell_type": "code",
   "execution_count": 5,
   "metadata": {},
   "outputs": [
    {
     "name": "stdout",
     "output_type": "stream",
     "text": [
      "不及格\n"
     ]
    }
   ],
   "source": [
    "# 多分支判断\n",
    "score = 59\n",
    "if 90 <= score <= 100:\n",
    "    print('优秀')\n",
    "elif 80 <= score < 90:\n",
    "    print('良好')\n",
    "elif 60 <= score < 80:\n",
    "    print('一般')\n",
    "elif 0 <= score < 60:\n",
    "    print('不及格')"
   ]
  },
  {
   "cell_type": "code",
   "execution_count": null,
   "metadata": {},
   "outputs": [],
   "source": []
  }
 ],
 "metadata": {
  "kernelspec": {
   "display_name": "Python 2",
   "language": "python",
   "name": "python2"
  },
  "language_info": {
   "codemirror_mode": {
    "name": "ipython",
    "version": 2
   },
   "file_extension": ".py",
   "mimetype": "text/x-python",
   "name": "python",
   "nbconvert_exporter": "python",
   "pygments_lexer": "ipython2",
   "version": "2.7.6"
  }
 },
 "nbformat": 4,
 "nbformat_minor": 0
}
