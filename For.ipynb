{
 "cells": [
  {
   "cell_type": "code",
   "execution_count": 1,
   "metadata": {
    "collapsed": true
   },
   "outputs": [
    {
     "name": "stdout",
     "output_type": "stream",
     "text": [
      "你 好 ， 我 是 李 小 根 "
     ]
    }
   ],
   "source": [
    "notices = '你好，我是李小根'\n",
    "for notice in notices:\n",
    "    print(notice, end=' ')"
   ]
  },
  {
   "cell_type": "code",
   "execution_count": 2,
   "metadata": {},
   "outputs": [
    {
     "name": "stdout",
     "output_type": "stream",
     "text": [
      "赵 钱 孙 李 "
     ]
    }
   ],
   "source": [
    "names = ['赵', '钱', '孙', '李']\n",
    "for name in names:\n",
    "    print(name, end=' ')"
   ]
  },
  {
   "cell_type": "code",
   "execution_count": 3,
   "metadata": {},
   "outputs": [
    {
     "name": "stdout",
     "output_type": "stream",
     "text": [
      "赵 钱 孙 李 结束了\n"
     ]
    }
   ],
   "source": [
    "names = ['赵', '钱', '孙', '李']\n",
    "for name in names:\n",
    "    print(name, end=' ')\n",
    "else:\n",
    "    print('结束了')"
   ]
  },
  {
   "cell_type": "code",
   "execution_count": 4,
   "metadata": {},
   "outputs": [
    {
     "name": "stdout",
     "output_type": "stream",
     "text": [
      "赵 "
     ]
    }
   ],
   "source": [
    "names = ['赵', '钱', '孙', '李']\n",
    "for name in names:\n",
    "    print(name, end=' ')\n",
    "    break\n",
    "else:\n",
    "    print('结束了')"
   ]
  },
  {
   "cell_type": "code",
   "execution_count": 5,
   "metadata": {},
   "outputs": [
    {
     "name": "stdout",
     "output_type": "stream",
     "text": [
      "李孙钱赵\n"
     ]
    }
   ],
   "source": [
    "# 字符串反转\n",
    "names = ['赵', '钱', '孙', '李']\n",
    "result = ''\n",
    "for name in names:\n",
    "    result = name + result\n",
    "print(result)"
   ]
  },
  {
   "cell_type": "code",
   "execution_count": 7,
   "metadata": {},
   "outputs": [],
   "source": []
  },
  {
   "cell_type": "code",
   "execution_count": null,
   "metadata": {},
   "outputs": [],
   "source": []
  }
 ],
 "metadata": {
  "kernelspec": {
   "display_name": "Python 2",
   "language": "python",
   "name": "python2"
  },
  "language_info": {
   "codemirror_mode": {
    "name": "ipython",
    "version": 2
   },
   "file_extension": ".py",
   "mimetype": "text/x-python",
   "name": "python",
   "nbconvert_exporter": "python",
   "pygments_lexer": "ipython2",
   "version": "2.7.6"
  }
 },
 "nbformat": 4,
 "nbformat_minor": 0
}
