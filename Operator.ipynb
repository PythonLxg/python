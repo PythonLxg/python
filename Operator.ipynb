{
 "cells": [
  {
   "cell_type": "code",
   "execution_count": 1,
   "metadata": {
    "collapsed": true
   },
   "outputs": [
    {
     "name": "stdout",
     "output_type": "stream",
     "text": [
      "3\n34\n[1, 2, 3, 4]\n-8\n6\n2.5\n8\n2\n2.0\n1\n"
     ]
    }
   ],
   "source": [
    "\"\"\"\n",
    "算数运算符\n",
    "+,-,*,/,//,%,**\n",
    "\"\"\"\n",
    "print(1 + 2)    # 加法运算符\n",
    "print('3' + '4')    # 加法运算符重载\n",
    "print([1, 2] + [3, 4])  # 加法运算符重载\n",
    "print(4 - 12)   # 减号运算符\n",
    "print(2 * 3)    # 乘法运算符\n",
    "print(5 / 2)    # 除法运算符\n",
    "print(2 ** 3)   # 幂运算符\n",
    "print(5 // 2)   # 整除运算符\n",
    "print(5.2 // 2)     # 取整数部分\n",
    "print(5 % 2)    # 求模运算符，求余运算符\n",
    "\n",
    "# //，%应用场景\n",
    "num = 6\n",
    "row = num // 4\n",
    "col = num % 4"
   ]
  },
  {
   "cell_type": "code",
   "execution_count": 2,
   "metadata": {},
   "outputs": [],
   "source": [
    "\"\"\"\n",
    "赋值运算符\n",
    "\"\"\"\n",
    "a = 1\n",
    "b, c = 2, 3\n",
    "q = w = e = 5"
   ]
  },
  {
   "cell_type": "code",
   "execution_count": 3,
   "metadata": {},
   "outputs": [
    {
     "name": "stdout",
     "output_type": "stream",
     "text": [
      "11\n"
     ]
    }
   ],
   "source": [
    "\"\"\"\n",
    "复合运算符\n",
    "+=,-=,*=,/=,//=,**=,%=\n",
    "\"\"\"\n",
    "number = 10\n",
    "number += 1\n",
    "print(number)"
   ]
  },
  {
   "cell_type": "code",
   "execution_count": 4,
   "metadata": {},
   "outputs": [
    {
     "name": "stdout",
     "output_type": "stream",
     "text": [
      "True\nTrue\n2240657389640 2240657389512\nTrue\nFalse\n"
     ]
    }
   ],
   "source": [
    "\"\"\"\n",
    "比较运算符\n",
    ">,<,==,!=,>=,<=,is\n",
    "\"\"\"\n",
    "result = 10 > 2\n",
    "print(result)\n",
    "\n",
    "# 链状比较运算符\n",
    "print(1 < num < 10)\n",
    "\n",
    "a = [1]\n",
    "b = [1]\n",
    "print(id(a), id(b))\n",
    "print(a == b)   # 比较值是否相等\n",
    "print(a is b)   # 比较唯一标志是否相等"
   ]
  },
  {
   "cell_type": "code",
   "execution_count": 5,
   "metadata": {},
   "outputs": [
    {
     "name": "stdout",
     "output_type": "stream",
     "text": [
      "0\n1\n3\n6\n"
     ]
    }
   ],
   "source": [
    "\"\"\"\n",
    "逻辑运算符\n",
    "not,and,or\n",
    "\"\"\"\n",
    "# not 非，取反\n",
    "# and 与，并且    and的两边必须都是真，最终才会是真\n",
    "# or 或者    or两边只要有一边是真，那么最终才会是真\n",
    "# 非零即真，非空即真\n",
    "print(0 and True)\n",
    "print(1 or 3)\n",
    "print(1 and 3)\n",
    "print(0 or False or 6)"
   ]
  },
  {
   "cell_type": "code",
   "execution_count": null,
   "metadata": {},
   "outputs": [],
   "source": []
  }
 ],
 "metadata": {
  "kernelspec": {
   "display_name": "Python 2",
   "language": "python",
   "name": "python2"
  },
  "language_info": {
   "codemirror_mode": {
    "name": "ipython",
    "version": 2
   },
   "file_extension": ".py",
   "mimetype": "text/x-python",
   "name": "python",
   "nbconvert_exporter": "python",
   "pygments_lexer": "ipython2",
   "version": "2.7.6"
  }
 },
 "nbformat": 4,
 "nbformat_minor": 0
}
