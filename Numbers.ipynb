{
 "cells": [
  {
   "cell_type": "code",
   "execution_count": 1,
   "metadata": {
    "collapsed": true
   },
   "outputs": [],
   "source": [
    "# 数值型表现形式\n",
    "# int（整数）             二进制（0b），八进制（0o），十进制（十进制数），十六进制（0x）\n",
    "# float（浮点数）         由整数和小数点组成，也可以使用科学记数法表示\n",
    "# complex（复数）         由实部和虚部组成complex（a，b），a+bj        a，b都是浮点数"
   ]
  },
  {
   "cell_type": "code",
   "execution_count": 2,
   "metadata": {},
   "outputs": [
    {
     "name": "stdout",
     "output_type": "stream",
     "text": [
      "6 161 2611\n"
     ]
    }
   ],
   "source": [
    "# 其他进制转十进制\n",
    "a = 0b110\n",
    "b = 0o241\n",
    "c = 0xa33\n",
    "print(a, b, c)"
   ]
  },
  {
   "cell_type": "code",
   "execution_count": 3,
   "metadata": {},
   "outputs": [
    {
     "name": "stdout",
     "output_type": "stream",
     "text": [
      "0b10010\n0o22\n0x12\n"
     ]
    }
   ],
   "source": [
    "# 十进制转其他进制\n",
    "num = 18\n",
    "print(bin(num))\n",
    "print(oct(num))\n",
    "print(hex(num))"
   ]
  },
  {
   "cell_type": "code",
   "execution_count": 4,
   "metadata": {},
   "outputs": [
    {
     "name": "stdout",
     "output_type": "stream",
     "text": [
      "3\n4\n-1\n3.15\n8\n4\n3\n2.0\n4.0\n"
     ]
    }
   ],
   "source": [
    "# 常用操作(运算符，数学函数（内建函数，模块函数），随机函数，三角函数，数学常量)\n",
    "# 数学函数\n",
    "import math\n",
    "print(abs(-3))      # 绝对值\n",
    "print(max(2, 3, -1, 4))  # 最大值\n",
    "print(min([2, 3, 4, -1]))     # 最小值\n",
    "print(round(3.147, 2))      # 保留两位小数\n",
    "print(pow(2, 3))        # 保留2的3次幂\n",
    "\n",
    "print(math.ceil(3.1))       # 向上取整\n",
    "print(math.floor(3.1))      # 向下取整\n",
    "print(math.sqrt(4))        # 开平方\n",
    "print(math.log(10000, 10))      # 以10为底"
   ]
  },
  {
   "cell_type": "code",
   "execution_count": 5,
   "metadata": {},
   "outputs": [
    {
     "name": "stdout",
     "output_type": "stream",
     "text": [
      "0.5271871964526497\n5\n1.6803496384413563\n6\n3\n"
     ]
    }
   ],
   "source": [
    "# 随机函数\n",
    "import random\n",
    "print(random.random())      # [0, 1)小数\n",
    "print(random.choice((2, 3, 4, 5)))      # 从一个序列中随机挑选一个值\n",
    "print(random.uniform(1, 3))     # [1, 3]范围内的随机小数\n",
    "print(random.randint(1, 10))      # [1, 10]范围内的随机整数\n",
    "print(random.randrange(1, 10))      # [1, 10)范围内的随机整数"
   ]
  },
  {
   "cell_type": "code",
   "execution_count": 6,
   "metadata": {},
   "outputs": [
    {
     "name": "stdout",
     "output_type": "stream",
     "text": [
      "0.49999999999999994\n0.8660254037844387\n0.5773502691896257\n0.5510695830994463\n1.0197267436954502\n0.48234790710102493\n"
     ]
    }
   ],
   "source": [
    "# 三角函数\n",
    "# sin(x)的x是弧度       pi=180\n",
    "# math.degrees(x)       弧度转角度     \n",
    "jiaodu = 30\n",
    "hudu = math.radians(jiaodu)     # 角度转弧度\n",
    "print(math.sin(hudu))\n",
    "print(math.cos(hudu))\n",
    "print(math.tan(hudu))\n",
    "print(math.asin(hudu))\n",
    "print(math.acos(hudu))\n",
    "print(math.atan(hudu))"
   ]
  },
  {
   "cell_type": "code",
   "execution_count": null,
   "metadata": {},
   "outputs": [],
   "source": []
  }
 ],
 "metadata": {
  "kernelspec": {
   "display_name": "Python 2",
   "language": "python",
   "name": "python2"
  },
  "language_info": {
   "codemirror_mode": {
    "name": "ipython",
    "version": 2
   },
   "file_extension": ".py",
   "mimetype": "text/x-python",
   "name": "python",
   "nbconvert_exporter": "python",
   "pygments_lexer": "ipython2",
   "version": "2.7.6"
  }
 },
 "nbformat": 4,
 "nbformat_minor": 0
}
