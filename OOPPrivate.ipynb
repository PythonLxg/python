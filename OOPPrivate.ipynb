{
 "cells": [
  {
   "cell_type": "code",
   "execution_count": 1,
   "metadata": {
    "collapsed": true
   },
   "outputs": [
    {
     "name": "stdout",
     "output_type": "stream",
     "text": [
      "20\n20\n20\n20\n20\n20\n20\n20\n"
     ]
    }
   ],
   "source": [
    "# 公有属性的访问权限\n",
    "class Animal:\n",
    "    x = 20      # 公有属性\n",
    "    \n",
    "    def test(self):\n",
    "        print(Animal.x)\n",
    "        print(self.x)\n",
    "        \n",
    "\n",
    "class Dog(Animal):\n",
    "    \n",
    "    def test2(self):\n",
    "        print(Dog.x)\n",
    "        print(self.x)\n",
    "        \n",
    "        \n",
    "a = Animal()        # 在类内部访问公有属性\n",
    "a.test()\n",
    "\n",
    "d = Dog()       # 在子类内部可以访问父类的公有属性\n",
    "d.test2()\n",
    "\n",
    "print(Animal.x)     # 模块内其他位置访问公有属性\n",
    "print(Dog.x)\n",
    "print(a.x)\n",
    "print(d.x)\n",
    "# 也可以跨模块访问公有属性"
   ]
  },
  {
   "cell_type": "code",
   "execution_count": 2,
   "metadata": {},
   "outputs": [
    {
     "name": "stdout",
     "output_type": "stream",
     "text": [
      "20\n20\n20\n20\n20\n20\n20\n20\n"
     ]
    }
   ],
   "source": [
    "# 受保护属性的访问权限\n",
    "class Animal:\n",
    "    _x = 20      # 公有属性\n",
    "    \n",
    "    def test(self):\n",
    "        print(Animal._x)\n",
    "        print(self._x)\n",
    "        \n",
    "\n",
    "class Dog(Animal):\n",
    "    \n",
    "    def test2(self):\n",
    "        print(Dog._x)\n",
    "        print(self._x)\n",
    "        \n",
    "\n",
    "a = Animal()        # 在类内部访问受保护属性\n",
    "a.test()\n",
    "\n",
    "d = Dog()       # 在子类内部可以访问父类的受保护属性\n",
    "d.test2()\n",
    "\n",
    "print(Animal._x)     # 不建议在模块内其他位置访问受保护属性\n",
    "print(Dog._x)\n",
    "print(a._x)\n",
    "print(d._x)\n",
    "# 不建议跨模块访问受保护属性,但要加上__all__ = ['_x']"
   ]
  },
  {
   "cell_type": "code",
   "execution_count": 3,
   "metadata": {},
   "outputs": [
    {
     "name": "stdout",
     "output_type": "stream",
     "text": [
      "20\n20\n{'__module__': '__main__', '_Animal__x': 20, 'test': <function Animal.test at 0x0000017D6030F158>, '__dict__': <attribute '__dict__' of 'Animal' objects>, '__weakref__': <attribute '__weakref__' of 'Animal' objects>, '__doc__': None}\n20\n"
     ]
    }
   ],
   "source": [
    "# 私有属性的访问权限\n",
    "class Animal:\n",
    "    __x = 20      # 私有属性\n",
    "    \n",
    "    def test(self):\n",
    "        print(Animal.__x)\n",
    "        print(self.__x)\n",
    "        \n",
    "\n",
    "class Dog(Animal):\n",
    "    def test2(self):\n",
    "        print(Dog.__x)\n",
    "        print(self.__x)\n",
    "        \n",
    "\n",
    "a = Animal()        # 在类内部访问受私有属性\n",
    "a.test()\n",
    "\n",
    "# print(Animal.__a),会报错，在子类内部不可以访问私有属性\n",
    "print(Animal.__dict__)\n",
    "print(Animal._Animal__x)        # 建议不要这样\n",
    "\n",
    "# 模块内其他位置不可以访问私有属性\n",
    "# 可以跨模块访问私有属性，弹药加上__all__ = ['__x']"
   ]
  },
  {
   "cell_type": "code",
   "execution_count": 4,
   "metadata": {},
   "outputs": [
    {
     "name": "stdout",
     "output_type": "stream",
     "text": [
      "20\n"
     ]
    }
   ],
   "source": [
    "class Person:\n",
    "    \n",
    "    def __init__(self):\n",
    "        self.__age = 18\n",
    "        \n",
    "    def setAge(self, value):\n",
    "        if isinstance(value, int) and 0 < value < 200:\n",
    "            self.__age = value\n",
    "        else:\n",
    "            print('输入的数据有误，请重新输入')\n",
    "    \n",
    "    def getAge(self):\n",
    "        return self.__age\n",
    "\n",
    "\n",
    "p = Person()\n",
    "p.setAge(20)\n",
    "print(p.getAge())"
   ]
  },
  {
   "cell_type": "code",
   "execution_count": 5,
   "metadata": {},
   "outputs": [
    {
     "name": "stdout",
     "output_type": "stream",
     "text": [
      "18\n"
     ]
    }
   ],
   "source": [
    "# 只读属性\n",
    "class Person:\n",
    "    \n",
    "    def __init__(self):\n",
    "        self.__age = 18\n",
    "        \n",
    "    def getAge(self):       # 公开的方法\n",
    "        return self.__age\n",
    "\n",
    "\n",
    "p = Person()\n",
    "print(p.getAge())"
   ]
  },
  {
   "cell_type": "code",
   "execution_count": 6,
   "metadata": {},
   "outputs": [
    {
     "name": "stdout",
     "output_type": "stream",
     "text": [
      "{'__module__': '__main__', '_Person__age': 20, '_Person__run': <function Person.__run at 0x0000017D6030F9D8>, '__dict__': <attribute '__dict__' of 'Person' objects>, '__weakref__': <attribute '__weakref__' of 'Person' objects>, '__doc__': None}\n"
     ]
    }
   ],
   "source": [
    "# 私有方法\n",
    "class Person:\n",
    "    __age = 20\n",
    "    \n",
    "    def __run(self):\n",
    "        print('run')\n",
    "\n",
    "\n",
    "p = Person()\n",
    "# p.__run() 不能访问\n",
    "print(Person.__dict__)"
   ]
  },
  {
   "cell_type": "code",
   "execution_count": null,
   "metadata": {},
   "outputs": [],
   "source": []
  }
 ],
 "metadata": {
  "kernelspec": {
   "display_name": "Python 2",
   "language": "python",
   "name": "python2"
  },
  "language_info": {
   "codemirror_mode": {
    "name": "ipython",
    "version": 2
   },
   "file_extension": ".py",
   "mimetype": "text/x-python",
   "name": "python",
   "nbconvert_exporter": "python",
   "pygments_lexer": "ipython2",
   "version": "2.7.6"
  }
 },
 "nbformat": 4,
 "nbformat_minor": 0
}
