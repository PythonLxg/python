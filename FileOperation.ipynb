{
 "cells": [
  {
   "cell_type": "code",
   "execution_count": 1,
   "metadata": {
    "collapsed": true
   },
   "outputs": [],
   "source": [
    "import os \n",
    "# 重命名\n",
    "os.rename('first.txt', 'onet.txt')       # 重命名， 可以给单级的文件和目录重命名\n",
    "# os.renames('one/one.txt', 'two/two.txt')      # 可以给多级的文件和目录重命名\n",
    "\n",
    "# 删除\n",
    "# os.remove('lixiaogen.jpg')        # 删除文件，不存在就报错\n",
    "# os.rmdir('one')       # 删除空目录\n",
    "# os.removedirs('one/one2')       # 递归删除目录\n",
    "\n",
    "# 创建\n",
    "# os.mkdir('a')     # 创建单级目录\n",
    "\n",
    "# 获取当前目录\n",
    "# os.getcwd()       # 获取当前目录\n",
    "\n",
    "# 改变默认目录\n",
    "# os.chdir()       # 改变默认目录\n",
    "\n",
    "# 获取目录内容列表\n",
    "# os.listdir('./')       # 获取目录内容列表，‘./ ’表示当前目录\n",
    "\n",
    "# 查看目录是否存在\n",
    "# os.path.exists(path)\n",
    "\n",
    "# 移动目录\n",
    "# import shutil\n",
    "# shutil.move(源文件，目标文件)\n",
    "\n",
    "# 判定是否是目录\n",
    "# os.path.isdir(path)\n",
    "\n",
    "# 判定是否时目录\n",
    "# os.path.isfile(path)"
   ]
  },
  {
   "cell_type": "code",
   "execution_count": null,
   "metadata": {},
   "outputs": [],
   "source": []
  }
 ],
 "metadata": {
  "kernelspec": {
   "display_name": "Python 2",
   "language": "python",
   "name": "python2"
  },
  "language_info": {
   "codemirror_mode": {
    "name": "ipython",
    "version": 2
   },
   "file_extension": ".py",
   "mimetype": "text/x-python",
   "name": "python",
   "nbconvert_exporter": "python",
   "pygments_lexer": "ipython2",
   "version": "2.7.6"
  }
 },
 "nbformat": 4,
 "nbformat_minor": 0
}
