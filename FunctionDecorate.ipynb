{
 "cells": [
  {
   "cell_type": "code",
   "execution_count": 1,
   "metadata": {
    "collapsed": true
   },
   "outputs": [
    {
     "name": "stdout",
     "output_type": "stream",
     "text": [
      "立即执行\n立即执行\n登陆验证。。。。\n发说说\n"
     ]
    }
   ],
   "source": [
    "# 装饰器：在保证原本函数不被改变的前提下，直接给这个函数增加一些功能\n",
    "def checkLogin(func):       # 装饰器一般要用到闭包\n",
    "    print('立即执行')\n",
    "    def inner():\n",
    "        print('登陆验证。。。。')\n",
    "        func()\n",
    "    return inner\n",
    "\n",
    "\n",
    "@checkLogin     # 语法糖\n",
    "def fss():\n",
    "    print('发说说')\n",
    "    \n",
    "    \n",
    "@checkLogin\n",
    "def ftp():\n",
    "    print('发图片')\n",
    "\n",
    "\n",
    "butIndex = 1\n",
    "if butIndex == 1:\n",
    "    fss()\n",
    "else:\n",
    "    ftp()"
   ]
  },
  {
   "cell_type": "code",
   "execution_count": 2,
   "metadata": {},
   "outputs": [
    {
     "name": "stdout",
     "output_type": "stream",
     "text": [
      "立即执行\n"
     ]
    }
   ],
   "source": [
    "# 装饰器是立即执行的\n",
    "def checkLogin(func):       \n",
    "    print('立即执行')\n",
    "    def inner():\n",
    "        print('登陆验证。。。。')\n",
    "        func()\n",
    "    return inner\n",
    "\n",
    "\n",
    "@checkLogin     # 语法糖\n",
    "def fss():\n",
    "    print('发说说')"
   ]
  },
  {
   "cell_type": "code",
   "execution_count": 3,
   "metadata": {},
   "outputs": [],
   "source": [
    "# 从上到下装饰，从下到上执行\n",
    "def line(func):\n",
    "    def inner():\n",
    "        print('-'*20)\n",
    "        func()\n",
    "    return inner\n",
    "    \n",
    "    \n",
    "def star(func):\n",
    "    def inner():\n",
    "        print('*'*20)\n",
    "        func()\n",
    "    return inner\n",
    "\n",
    "\n",
    "@line       # 从上到下装饰\n",
    "@star       # 从下到上执行\n",
    "def content():\n",
    "    print('hello...')\n",
    "    \n",
    "    \n",
    "content()"
   ]
  },
  {
   "cell_type": "code",
   "execution_count": 4,
   "metadata": {},
   "outputs": [
    {
     "name": "stdout",
     "output_type": "stream",
     "text": [
      "--------------------\n(12, 11) {'num3': 666}\n12 11 666\n"
     ]
    }
   ],
   "source": [
    "# 对有参函数进行装饰\n",
    "def zsq(func):\n",
    "    def inner(*args, **kwargs):\n",
    "        print('-' * 20)\n",
    "        print(args, kwargs)\n",
    "        func(*args, **kwargs)\n",
    "    return inner\n",
    "\n",
    "\n",
    "@zsq      # cal = zsq(cal)\n",
    "def cal(num1, num2, num3):\n",
    "    print(num1, num2, num3)\n",
    "\n",
    "\n",
    "@zsq\n",
    "def cal1(num1, num2):\n",
    "    print(num1 + num2)\n",
    "    \n",
    "    \n",
    "cal(12, 11, num3=666)"
   ]
  },
  {
   "cell_type": "code",
   "execution_count": 5,
   "metadata": {},
   "outputs": [],
   "source": [
    "# 对有返回值的函数进行装饰\n",
    "def zsq(func):\n",
    "    def inner(*args, **kwargs):\n",
    "        print('-' * 20)\n",
    "        # print(args, kwargs)\n",
    "        res = func(*args, **kwargs)\n",
    "        return res\n",
    "    return inner\n",
    "\n",
    "\n",
    "@zsq\n",
    "def cal(num1, num2, num3):\n",
    "    print(num1, num2, num3)\n",
    "    return num1 + num2 + num3\n",
    "\n",
    "\n",
    "@zsq\n",
    "def cal1(num1, num2):\n",
    "    print(num1 + num2)\n",
    "    \n",
    "    \n",
    "res1 = cal(22, 11, num3=33)\n",
    "res2 = cal1(22, 11)"
   ]
  },
  {
   "cell_type": "code",
   "execution_count": 6,
   "metadata": {},
   "outputs": [
    {
     "name": "stdout",
     "output_type": "stream",
     "text": [
      "********************\n666\n"
     ]
    }
   ],
   "source": [
    "# 带有参数的装饰器,相当于装饰器的嵌套\n",
    "def zsq(chars):\n",
    "    def zsq1(func):\n",
    "        def inner():\n",
    "            print(chars * 20)\n",
    "            func()\n",
    "        return inner\n",
    "    return zsq1\n",
    "\n",
    "\n",
    "@zsq(\"*\")\n",
    "def f1():\n",
    "    print('666')\n",
    "    \n",
    "    \n",
    "f1()"
   ]
  },
  {
   "cell_type": "code",
   "execution_count": null,
   "metadata": {},
   "outputs": [],
   "source": []
  }
 ],
 "metadata": {
  "kernelspec": {
   "display_name": "Python 2",
   "language": "python",
   "name": "python2"
  },
  "language_info": {
   "codemirror_mode": {
    "name": "ipython",
    "version": 2
   },
   "file_extension": ".py",
   "mimetype": "text/x-python",
   "name": "python",
   "nbconvert_exporter": "python",
   "pygments_lexer": "ipython2",
   "version": "2.7.6"
  }
 },
 "nbformat": 4,
 "nbformat_minor": 0
}
