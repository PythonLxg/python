{
 "cells": [
  {
   "cell_type": "code",
   "execution_count": 1,
   "metadata": {
    "collapsed": true
   },
   "outputs": [
    {
     "name": "stdout",
     "output_type": "stream",
     "text": [
      "['a', 'b', 'c'] <class 'list'>\n[1, 2, 'li', ['a', 'b', 'c']] <class 'list'>\nrange(0, 10)\nrange(1, 100)\n<class 'range'>\n[1, 4, 9, 16]\n<class 'list'>\n['s', 'g', 'j', 'l', 'g', 'j']\n<class 'list'>\n"
     ]
    }
   ],
   "source": [
    "# List是有序可变类型\n",
    "# 列表创建方式一\n",
    "items = ['a', 'b', 'c']\n",
    "names = [1, 2, 'li', items]\n",
    "print(items, type(items))\n",
    "print(names, type(names))\n",
    "\n",
    "# 列表创建方式二   列表生成式\n",
    "print(range(10))\n",
    "print(range(1, 100, 1))\n",
    "print(type(range(10)))\n",
    "\n",
    "# 列表创建方式三   列表推导式\n",
    "nums = [1, 2, 3, 4]\n",
    "resultList = [num ** 2 for num in nums if num != 0]\n",
    "print(resultList)\n",
    "print(type(resultList))\n",
    "\n",
    "# 列表创建方式四\n",
    "s = 'sgjlgj'\n",
    "sList = list(s)\n",
    "print(sList)\n",
    "print(type(sList))"
   ]
  },
  {
   "cell_type": "code",
   "execution_count": 2,
   "metadata": {},
   "outputs": [
    {
     "name": "stdout",
     "output_type": "stream",
     "text": [
      "[1, 2, 3, 4]\n[1, 2, 3, 4, 5]\nNone\n[1, 2, 5, 5, 3, 4]\nNone\n[1, 2, 3, 4, 'a', 'b', 'c']\n[1, 2, 3, 1, 2, 3, 1, 2, 3]\n[1, 2, 3]\n[1, 2, 3, 'a', 'b', 'c']\n"
     ]
    }
   ],
   "source": [
    "# list常用操作（增，删，改，查）\n",
    "# 增\n",
    "nums = [1, 2, 3, 4]\n",
    "print(nums)\n",
    "nums.append(5)      # 在列表末尾追加一个新元素\n",
    "print(nums)\n",
    "\n",
    "a = [1, 2, 3, 4]\n",
    "a.insert(2, 5)        # 在指定index（2）加入一个新元素（5）\n",
    "print(a.insert(2, 5))\n",
    "print(a)\n",
    "\n",
    "n1 = [1, 2, 3, 4]\n",
    "n2 = 'abc'\n",
    "print(n1.extend(n2))        # 在列表中添加一个可迭代序列\n",
    "print(n1)\n",
    "\n",
    "n3 = [1, 2, 3]\n",
    "print(n3 * 3)       # 不修改原列表\n",
    "print(n3)\n",
    "\n",
    "n4 = [1, 2, 3]\n",
    "n5 = ['a', 'b', 'c']\n",
    "print(n4 + n5)      # 只能两个列表相加"
   ]
  },
  {
   "cell_type": "code",
   "execution_count": 3,
   "metadata": {},
   "outputs": [
    {
     "name": "stdout",
     "output_type": "stream",
     "text": [
      "[1, 3, 4]\n4 [1, 2, 3]\nNone\n[1, 3, 2, 4, 5]\n"
     ]
    }
   ],
   "source": [
    "# 删\n",
    "n = [1, 2, 3, 4]\n",
    "del n[1]        # 删除一个指定元素\n",
    "print(n)\n",
    "\n",
    "n1 = [1, 2, 3, 4]\n",
    "result = n1.pop()          # 移除并返回指定索引对应元素，默认索引为-1\n",
    "print(result, n1)\n",
    "\n",
    "n2 = [1, 2, 3, 2, 4, 5]\n",
    "print(n2.remove(2))         # 移除指定元素\n",
    "print(n2)"
   ]
  },
  {
   "cell_type": "code",
   "execution_count": 4,
   "metadata": {},
   "outputs": [
    {
     "name": "stdout",
     "output_type": "stream",
     "text": [
      "[1, 2, 666, 5]\n"
     ]
    }
   ],
   "source": [
    "# 改\n",
    "nums = [1, 2, 3, 5]\n",
    "nums[2] = 666\n",
    "print(nums)"
   ]
  },
  {
   "cell_type": "code",
   "execution_count": 5,
   "metadata": {},
   "outputs": [
    {
     "name": "stdout",
     "output_type": "stream",
     "text": [
      "3\n2 5\n2\n[1, 4, 3, 6, 7, 3, 9]\n[9, 3, 7, 6, 3, 4, 1]\n[4, 6, 3]\na 0\nb 1\nc 2\na 3\nd 4\nq 0\nw 1\ne 2\nr 3\nt 4\n<enumerate object at 0x0000023DE8B6A480>\n[(0, 'q'), (1, 'a'), (2, 'z'), (3, 'y')]\n0:q\n1:a\n2:z\n3:y\na\nv\nn\nt\n"
     ]
    }
   ],
   "source": [
    "# 查\n",
    "# 获取单个元素\n",
    "nums = [1, 4, 3, 6, 7, 3, 9]\n",
    "print(nums[-2])\n",
    "\n",
    "# 获取元素索引\n",
    "idx = nums.index(3)\n",
    "i = nums.index(3, 5)        # 从index（5）开始获取元素索引\n",
    "print(idx, i)\n",
    "\n",
    "# 获取指定元素个数\n",
    "n = nums.count(3)\n",
    "print(n)\n",
    "\n",
    "# 获取多个元素,切片\n",
    "print(nums[::])\n",
    "print(nums[::-1])\n",
    "p = nums[1:7:2]\n",
    "print(p)\n",
    "\n",
    "# 遍历\n",
    "values = ['a', 'b', 'c', 'a', 'd']\n",
    "currentIndex = 0\n",
    "for v in values:\n",
    "    print(v, values.index(v, currentIndex))\n",
    "    currentIndex += 1\n",
    "    \n",
    "vs = ['q', 'w', 'e', 'r', 't']\n",
    "for v in range(len(vs)):\n",
    "    print(vs[v], v)\n",
    "    \n",
    "n = ['q', 'a', 'z', 'y']\n",
    "print(enumerate(n))\n",
    "print(list(enumerate(n)))\n",
    "# 遍历整个枚举对象\n",
    "for i, v in enumerate(n):\n",
    "    print('{0}:{1}'.format(i, v))\n",
    "\n",
    "# 使用迭代器遍历    \n",
    "n1 = ['a', 'v', 'n', 't']\n",
    "it = iter(n1)\n",
    "for i in it:\n",
    "    print(i)"
   ]
  },
  {
   "cell_type": "code",
   "execution_count": 6,
   "metadata": {},
   "outputs": [
    {
     "name": "stdout",
     "output_type": "stream",
     "text": [
      "True\nTrue\nTrue\nTrue\n['a', 'd', 'f', 'h', 'o', 'r', 'u', 'y']\n[('li1', 14), ('li', 18), ('li2', 19), ('li3', 23)]\nNone [9, 4, 5, 3, 1, 7]\nNone [6, 2, 7, 4, 3]\n[2, 9, 7, 5, 4] [4, 5, 7, 9, 2]\n"
     ]
    }
   ],
   "source": [
    "# 判定\n",
    "s = [1, 2, 3, 4]\n",
    "print(1 in s)\n",
    "print(5 not in s)\n",
    "\n",
    "# 比较\n",
    "print([1, 2, 3] == [1, 2, 3])\n",
    "print([1, 2, 4] > [1, 2, 3])\n",
    "\n",
    "# 排序\n",
    "s = 'adfhyruo'\n",
    "res = sorted(s)     # 对可迭代对象进行排序，返回值是list类型,默认升序（reverse）\n",
    "print(res)          # 同 列表对象.sort() 类似，但能更改原对象\n",
    "\n",
    "names = [('li', 18), ('li1', 14), ('li2', 19), ('li3', 23)]\n",
    "\n",
    "\n",
    "def getkey(x):\n",
    "    return x[1]\n",
    "\n",
    "\n",
    "result = sorted(names, key=getkey)\n",
    "print(result)\n",
    "\n",
    "# 乱序\n",
    "import random\n",
    "l = [5, 4, 3, 7, 9, 1]\n",
    "result = random.shuffle(l)\n",
    "print(result, l)\n",
    "\n",
    "# 反转\n",
    "li = [3, 4, 7, 2, 6]\n",
    "res = li.reverse()\n",
    "print(res, li)\n",
    "n2 = [4, 5, 7, 9, 2]\n",
    "r = n2[::-1]\n",
    "print(r, n2)"
   ]
  },
  {
   "cell_type": "code",
   "execution_count": null,
   "metadata": {},
   "outputs": [],
   "source": []
  }
 ],
 "metadata": {
  "kernelspec": {
   "display_name": "Python 2",
   "language": "python",
   "name": "python2"
  },
  "language_info": {
   "codemirror_mode": {
    "name": "ipython",
    "version": 2
   },
   "file_extension": ".py",
   "mimetype": "text/x-python",
   "name": "python",
   "nbconvert_exporter": "python",
   "pygments_lexer": "ipython2",
   "version": "2.7.6"
  }
 },
 "nbformat": 4,
 "nbformat_minor": 0
}
