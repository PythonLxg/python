{
 "cells": [
  {
   "cell_type": "code",
   "execution_count": 1,
   "metadata": {
    "collapsed": true
   },
   "outputs": [
    {
     "name": "stdout",
     "output_type": "stream",
     "text": [
      "3\n9\n27\n"
     ]
    }
   ],
   "source": [
    "# 单个参数\n",
    "def test(num):\n",
    "    print(num ** 1)\n",
    "    print(num ** 2)\n",
    "    print(num ** 3)\n",
    "    \n",
    "    \n",
    "test(3)"
   ]
  },
  {
   "cell_type": "code",
   "execution_count": 2,
   "metadata": {},
   "outputs": [
    {
     "name": "stdout",
     "output_type": "stream",
     "text": [
      "13\n13\n"
     ]
    }
   ],
   "source": [
    "# 多个参数\n",
    "def test1(num1, num2, num3):      \n",
    "    print(num1 + num2 + num3)      # 形参与实参一一对应\n",
    "    \n",
    "    \n",
    "test1(2, 5, 6)     # 形参与实参一一对应\n",
    "test1(num2=5, num1=2, num3=6)     # 指定形参名，称之‘关键字参数’"
   ]
  },
  {
   "cell_type": "code",
   "execution_count": 3,
   "metadata": {},
   "outputs": [
    {
     "name": "stdout",
     "output_type": "stream",
     "text": [
      "<class 'tuple'>\n2\n4\n6\n8\n20\n{'name': 'li', 'age': 23} <class 'dict'>\n"
     ]
    }
   ],
   "source": [
    "# 不定长参数\n",
    "def test2(*args):       # 参数是元组类型\n",
    "    result = 0\n",
    "    print(type(args))\n",
    "    for i in args:\n",
    "        print(i)\n",
    "        result += i\n",
    "    print(result)\n",
    "\n",
    "\n",
    "test2(2, 4, 6, 8)\n",
    "\n",
    "\n",
    "def test3(**kwargs):\n",
    "    print(kwargs, type(kwargs))\n",
    "   \n",
    "\n",
    "test3(name='li', age=23)\n"
   ]
  },
  {
   "cell_type": "code",
   "execution_count": 4,
   "metadata": {},
   "outputs": [
    {
     "name": "stdout",
     "output_type": "stream",
     "text": [
      "(1, 2, 3, 4) <class 'tuple'>\n1 2 3 4\n10\n"
     ]
    }
   ],
   "source": [
    "# 参数拆包\n",
    "def mySum(a, b, c, d):\n",
    "    print(a+b+c+d)\n",
    "    \n",
    "    \n",
    "def test4(*args):\n",
    "    # 参数装包\n",
    "    print(args, type(args))\n",
    "    # 参数拆包\n",
    "    print(*args)\n",
    "    mySum(*args)\n",
    "    \n",
    "    \n",
    "test4(1, 2, 3, 4)"
   ]
  },
  {
   "cell_type": "code",
   "execution_count": 5,
   "metadata": {},
   "outputs": [
    {
     "name": "stdout",
     "output_type": "stream",
     "text": [
      "my name is li\nmy name is wang\n"
     ]
    }
   ],
   "source": [
    "# 缺省参数\n",
    "def test5(name='li'):\n",
    "    print('my name is %s' % name)\n",
    "    \n",
    "    \n",
    "test5()\n",
    "test5('wang')"
   ]
  },
  {
   "cell_type": "code",
   "execution_count": 6,
   "metadata": {},
   "outputs": [
    {
     "name": "stdout",
     "output_type": "stream",
     "text": [
      "1903914272\n1903914272\n1750751294224\n8\n1750751507656\n1750751507656\n1750751507656\n[1, 2, 3, 4]\n"
     ]
    }
   ],
   "source": [
    "# 值传递：传递过来的是数据的副本，修改副本对原件没有影响\n",
    "# 引用传递：传递过来的是一个变量的地址，通过地址可以操作同一份原件\n",
    "# 在python中只有引用传递，但是如果数据是可变类型，则可以修改原件，如果是不可变类型，则不可以修改原件\n",
    "\n",
    "\n",
    "def unchange(num):      # 不可变类型\n",
    "    print(id(num))\n",
    "    num = 666\n",
    "    print(id(num))\n",
    "\n",
    "\n",
    "b = 8\n",
    "print(id(b))\n",
    "unchange(b)\n",
    "print(b)\n",
    "\n",
    "\n",
    "def change(num):        # 可变类型\n",
    "    print(id(num))\n",
    "    num.append(4)\n",
    "    print(id(num))\n",
    "\n",
    "\n",
    "b = [1, 2, 3]\n",
    "print(id(b))\n",
    "change(b)\n",
    "print(b)"
   ]
  },
  {
   "cell_type": "code",
   "execution_count": null,
   "metadata": {},
   "outputs": [],
   "source": []
  }
 ],
 "metadata": {
  "kernelspec": {
   "display_name": "Python 2",
   "language": "python",
   "name": "python2"
  },
  "language_info": {
   "codemirror_mode": {
    "name": "ipython",
    "version": 2
   },
   "file_extension": ".py",
   "mimetype": "text/x-python",
   "name": "python",
   "nbconvert_exporter": "python",
   "pygments_lexer": "ipython2",
   "version": "2.7.6"
  }
 },
 "nbformat": 4,
 "nbformat_minor": 0
}
