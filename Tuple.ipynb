{
 "cells": [
  {
   "cell_type": "code",
   "execution_count": 1,
   "metadata": {
    "collapsed": true
   },
   "outputs": [
    {
     "name": "stdout",
     "output_type": "stream",
     "text": [
      "<class 'int'>\n<class 'tuple'>\n<class 'tuple'>\n<class 'tuple'>\n<class 'tuple'>\n(1, 2, ('a', 'b')) <class 'tuple'>\n"
     ]
    }
   ],
   "source": [
    "# tuple类型是有序不可变的元素集合\n",
    "# 一个元素\n",
    "l = (1)\n",
    "print(type(l))\n",
    "l1 = (1,)\n",
    "print(type(l1))\n",
    "\n",
    "# 多个元素的写法\n",
    "l3 = (1, 3, 'li', [1, 2])\n",
    "l4 = 1, 2, 3, 'hello', [4, 5]\n",
    "print(type(l3))\n",
    "print(type(l4))\n",
    "\n",
    "# 从列表转为元组\n",
    "l5 = [2, 3, 5]\n",
    "t = tuple(l5)\n",
    "print(type(t))\n",
    "\n",
    "# 元组嵌套\n",
    "l6 = (1, 2, ('a', 'b'))\n",
    "print(l6, type(l6))"
   ]
  },
  {
   "cell_type": "code",
   "execution_count": 2,
   "metadata": {},
   "outputs": [
    {
     "name": "stdout",
     "output_type": "stream",
     "text": [
      "1\n(1, 2, 3)\n(5, 4, 3, 2, 1)\n"
     ]
    }
   ],
   "source": [
    "# 查\n",
    "t = (1, 2, 3, 4, 5)\n",
    "print(t[0])\n",
    "print(t[:3])\n",
    "print(t[::-1])"
   ]
  },
  {
   "cell_type": "code",
   "execution_count": 3,
   "metadata": {},
   "outputs": [
    {
     "name": "stdout",
     "output_type": "stream",
     "text": [
      "2 0\n2\n5\n5\n1\n"
     ]
    }
   ],
   "source": [
    "# 获取\n",
    "l = (1, 3, 2, 5, 2)\n",
    "c = l.count(2)\n",
    "c1 = l.count(12)\n",
    "print(c, c1)\n",
    "idx = l.index(2)\n",
    "# idx1 = l.index(12)      # 报错\n",
    "print(idx)\n",
    "print(len(l))\n",
    "print(max(l))\n",
    "print(min(l))"
   ]
  },
  {
   "cell_type": "code",
   "execution_count": 4,
   "metadata": {},
   "outputs": [
    {
     "name": "stdout",
     "output_type": "stream",
     "text": [
      "True\nFalse\n"
     ]
    }
   ],
   "source": [
    "# 判定\n",
    "l = [1, 2, 3, 4, 5, 6]\n",
    "print(3 in l)\n",
    "print(33 in l)"
   ]
  },
  {
   "cell_type": "code",
   "execution_count": 5,
   "metadata": {},
   "outputs": [
    {
     "name": "stdout",
     "output_type": "stream",
     "text": [
      "False\n"
     ]
    }
   ],
   "source": [
    "# 比较\n",
    "r = (1, 2) > (3, 4)\n",
    "print(r)\n",
    "# r2 = (5, 6) > [1, 3] 报错"
   ]
  },
  {
   "cell_type": "code",
   "execution_count": 6,
   "metadata": {},
   "outputs": [
    {
     "name": "stdout",
     "output_type": "stream",
     "text": [
      "(1, 2) (1, 2, 1, 2, 1, 2)\n(1, 2, 3, 4)\n"
     ]
    }
   ],
   "source": [
    "# 拼接\n",
    "l = (1, 2)\n",
    "l1 = l*3\n",
    "print(l, l1)\n",
    "print((1, 2) + (3, 4))"
   ]
  },
  {
   "cell_type": "code",
   "execution_count": 7,
   "metadata": {},
   "outputs": [
    {
     "name": "stdout",
     "output_type": "stream",
     "text": [
      "10 20\n10 20\n2 1\n"
     ]
    }
   ],
   "source": [
    "# 拆包\n",
    "a = 10\n",
    "b = 20\n",
    "l = (a, b)\n",
    "print(l[0], l[1])\n",
    "\n",
    "a, b = (10, 20)     # 拆包\n",
    "print(a, b)\n",
    "\n",
    "a = 1\n",
    "b = 2\n",
    "a, b = b, a       # 交换a，b的值\n",
    "print(a, b)"
   ]
  },
  {
   "cell_type": "code",
   "execution_count": null,
   "metadata": {},
   "outputs": [],
   "source": []
  }
 ],
 "metadata": {
  "kernelspec": {
   "display_name": "Python 2",
   "language": "python",
   "name": "python2"
  },
  "language_info": {
   "codemirror_mode": {
    "name": "ipython",
    "version": 2
   },
   "file_extension": ".py",
   "mimetype": "text/x-python",
   "name": "python",
   "nbconvert_exporter": "python",
   "pygments_lexer": "ipython2",
   "version": "2.7.6"
  }
 },
 "nbformat": 4,
 "nbformat_minor": 0
}
