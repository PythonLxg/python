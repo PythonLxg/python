{
 "cells": [
  {
   "cell_type": "code",
   "execution_count": 1,
   "metadata": {
    "collapsed": true
   },
   "outputs": [
    {
     "name": "stdout",
     "output_type": "stream",
     "text": [
      "1\n2\n3\n4\n"
     ]
    }
   ],
   "source": [
    "# 迭代器\n",
    "l = [1, 2, 3, 4]        # 任何序列类型都可以用于for循环\n",
    "for i in l:\n",
    "    print(i)"
   ]
  },
  {
   "cell_type": "code",
   "execution_count": 2,
   "metadata": {},
   "outputs": [
    {
     "name": "stdout",
     "output_type": "stream",
     "text": [
      "HELLONIHAOLI"
     ]
    }
   ],
   "source": [
    "# 文件迭代器\n",
    "for line in open('a.txt'):\n",
    "    print(line.upper(), end='')"
   ]
  },
  {
   "cell_type": "code",
   "execution_count": 3,
   "metadata": {},
   "outputs": [],
   "source": [
    "# 其他内置类型迭代器\n",
    "d = {'a': 1, 'b': 2, 'c': 3}\n",
    "for key in d.keys():\n",
    "    print(key, d[key])\n",
    "    \n",
    "# range，zip, enumerate也可以"
   ]
  },
  {
   "cell_type": "code",
   "execution_count": 4,
   "metadata": {},
   "outputs": [
    {
     "name": "stdout",
     "output_type": "stream",
     "text": [
      "[11, 12, 13, 14]\n[21, 22, 23, 24]\n"
     ]
    }
   ],
   "source": [
    "# 列表解析\n",
    "l = [1, 2, 3, 4]\n",
    "for i in range(len(l)):\n",
    "    l[i] += 10\n",
    "print(l)\n",
    "\n",
    "L = [i + 10 for i in l]\n",
    "print(L)"
   ]
  },
  {
   "cell_type": "code",
   "execution_count": 5,
   "metadata": {},
   "outputs": [
    {
     "name": "stdout",
     "output_type": "stream",
     "text": [
      "['HELLONIHAOLI']\n"
     ]
    }
   ],
   "source": [
    "# 文件解析\n",
    "lines = [line.upper() for line in open('a.txt')]\n",
    "print(lines)"
   ]
  },
  {
   "cell_type": "code",
   "execution_count": null,
   "metadata": {},
   "outputs": [],
   "source": []
  }
 ],
 "metadata": {
  "kernelspec": {
   "display_name": "Python 2",
   "language": "python",
   "name": "python2"
  },
  "language_info": {
   "codemirror_mode": {
    "name": "ipython",
    "version": 2
   },
   "file_extension": ".py",
   "mimetype": "text/x-python",
   "name": "python",
   "nbconvert_exporter": "python",
   "pygments_lexer": "ipython2",
   "version": "2.7.6"
  }
 },
 "nbformat": 4,
 "nbformat_minor": 0
}
