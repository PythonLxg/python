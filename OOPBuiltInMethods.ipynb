{
 "cells": [
  {
   "cell_type": "code",
   "execution_count": 1,
   "metadata": {
    "collapsed": true
   },
   "outputs": [
    {
     "name": "stdout",
     "output_type": "stream",
     "text": [
      "这个人的姓名：li，年龄：22\nrepr----\n"
     ]
    }
   ],
   "source": [
    "# 信息格式化\n",
    "class Person:\n",
    "    \n",
    "    def __init__(self, n, a):\n",
    "        self.name = n\n",
    "        self.age = a\n",
    "    \n",
    "    def __str__(self):      # 信息格式化:返回值面向用户，更友好\n",
    "        return '这个人的姓名：%s，年龄：%d' % (self.name, self.age)\n",
    "\n",
    "    def __repr__(self):     # 返回值面向开发人员\n",
    "        return 'repr----'\n",
    "    \n",
    "    \n",
    "p1 = Person('li', 22)\n",
    "print(p1)\n",
    "print(repr(p1))"
   ]
  },
  {
   "cell_type": "code",
   "execution_count": 2,
   "metadata": {},
   "outputs": [],
   "source": [
    "# 调用操作：使得对象具备当作函数来调用的能力\n",
    "class Person:\n",
    "    \n",
    "    def __call__(self, *args, **kwargs):\n",
    "        print('xxxxxx', args, kwargs)\n",
    "        \n",
    "        \n",
    "p = Person()\n",
    "p(12, 33, name='li')     # 对象可以当作函数来调用"
   ]
  },
  {
   "cell_type": "code",
   "execution_count": 3,
   "metadata": {},
   "outputs": [
    {
     "name": "stdout",
     "output_type": "stream",
     "text": [
      "这是一支蓝色的钢笔\n这是一支红色的钢笔\n这是一支蓝色的铅笔\n这是一支红色的铅笔\n"
     ]
    }
   ],
   "source": [
    "# __call__应用案例\n",
    "class PenFactory:\n",
    "    \n",
    "    def __init__(self, p_type):\n",
    "        self.p_type = p_type\n",
    "    \n",
    "    def __call__(self, p_color):\n",
    "        print('这是一支%s的%s' % (p_color, self.p_type))\n",
    "        \n",
    "    \n",
    "gangbi = PenFactory('钢笔')\n",
    "gangbi('蓝色')\n",
    "gangbi('红色')\n",
    "qianbi = PenFactory('铅笔')\n",
    "qianbi('蓝色')\n",
    "qianbi('红色')"
   ]
  },
  {
   "cell_type": "code",
   "execution_count": 4,
   "metadata": {},
   "outputs": [
    {
     "name": "stdout",
     "output_type": "stream",
     "text": [
      "{'name': 'li'}\nli\n{}\n"
     ]
    }
   ],
   "source": [
    "# 索引操作：可以对一个实例对象进行索引操作\n",
    "class Person:\n",
    "    \n",
    "    def __init__(self):\n",
    "        self.zidian = {}\n",
    "    \n",
    "    def __setitem__(self, key, value):\n",
    "        self.zidian[key] = value\n",
    "        \n",
    "    def __getitem__(self, item):\n",
    "        return self.zidian[item]\n",
    "        \n",
    "    def __delitem__(self, key):\n",
    "        del self.zidian[key]\n",
    "        \n",
    "        \n",
    "p = Person()\n",
    "p['name'] = 'li'\n",
    "print(p.zidian)\n",
    "print(p['name'])\n",
    "del p['name']\n",
    "print(p.zidian)"
   ]
  },
  {
   "cell_type": "code",
   "execution_count": 5,
   "metadata": {},
   "outputs": [
    {
     "name": "stdout",
     "output_type": "stream",
     "text": [
      "['a', 2, 'b', 4, 7, 5, 6]\n"
     ]
    }
   ],
   "source": [
    "# 切片操作:可以对一个实例对象进行切片操作\n",
    "class Person:\n",
    "    \n",
    "    def __init__(self):\n",
    "        self.leibiao = [1, 2, 3, 4, 7, 5, 6]\n",
    "    \n",
    "    def __setitem__(self, key, value):\n",
    "        if isinstance(key, slice):\n",
    "            self.leibiao[key] = value\n",
    "            # self.leibiao[key.start:key.stop:key.step]\n",
    "        \n",
    "    def __getitem__(self, item):\n",
    "        print('getitem', item)\n",
    "        \n",
    "    def __delitem__(self, key):\n",
    "        print('delitem', key)\n",
    "        \n",
    "\n",
    "p = Person()\n",
    "p[0:4:2] = ['a', 'b']\n",
    "print(p.leibiao)"
   ]
  },
  {
   "cell_type": "code",
   "execution_count": 6,
   "metadata": {},
   "outputs": [
    {
     "name": "stdout",
     "output_type": "stream",
     "text": [
      "<__main__.Person object at 0x000001ACB9943668>\n19\nFalse\n<__main__.Person object at 0x000001ACB9943668>\n19\nTrue\n"
     ]
    }
   ],
   "source": [
    "# 比较操作\n",
    "class Person:\n",
    "    \n",
    "    def __init__(self, age, height):\n",
    "        self.age = age\n",
    "        self.height = height\n",
    "        \n",
    "    def __eq__(self, other):        # 等于\n",
    "        print(other)                # 可以自定义比较规则\n",
    "        print(other.age)                # 可以自定义比较规则\n",
    "        return self.age == other.age\n",
    "    \n",
    "    def __gt__(self):       # 大于\n",
    "        pass \n",
    "    \n",
    "    # def __ne__(self):       # 不等于\n",
    "    #   pass\n",
    "    \n",
    "    def __lt__(self):       # 小于\n",
    "        pass\n",
    "    \n",
    "    def __ge__(self):       # 大于等于\n",
    "        pass\n",
    "    \n",
    "    def __le__(self):       # 小于等于\n",
    "        pass\n",
    "    \n",
    "    \n",
    "p1 = Person(18, 177)\n",
    "p2 = Person(19, 177)\n",
    "print(p1 == p2)\n",
    "print(p1 != p2)"
   ]
  },
  {
   "cell_type": "code",
   "execution_count": 7,
   "metadata": {},
   "outputs": [
    {
     "name": "stdout",
     "output_type": "stream",
     "text": [
      "hello\nhello\n"
     ]
    }
   ],
   "source": [
    "class Person:\n",
    "    \n",
    "    def __init__(self):\n",
    "        self.age = 20\n",
    "        \n",
    "    def __bool__(self):\n",
    "        return self.age > 18\n",
    "    \n",
    "    \n",
    "p = Person()\n",
    "if p:       # 对象p返回的是False\n",
    "    print('hello')\n",
    "    \n",
    "    \n",
    "class Persons:\n",
    "    pass\n",
    "    \n",
    "    \n",
    "p = Persons()       \n",
    "if p:       # 实例默认为非空，为真\n",
    "    print('hello')"
   ]
  },
  {
   "cell_type": "code",
   "execution_count": 8,
   "metadata": {},
   "outputs": [
    {
     "name": "stdout",
     "output_type": "stream",
     "text": [
      "1\n2\n3\n4\n5\n"
     ]
    }
   ],
   "source": [
    "# 遍历操作:方式一\n",
    "class Person:\n",
    "    \n",
    "    def __init__(self):\n",
    "        self.age = 0\n",
    "        \n",
    "    def __getitem__(self, item):\n",
    "        self.age += 1\n",
    "        if self.age >= 6:\n",
    "            raise StopIteration('停止遍历')\n",
    "        return self.age\n",
    "    \n",
    "    \n",
    "p = Person()\n",
    "for i in p:\n",
    "    print(i)"
   ]
  },
  {
   "cell_type": "code",
   "execution_count": 9,
   "metadata": {},
   "outputs": [
    {
     "name": "stdout",
     "output_type": "stream",
     "text": [
      "1\n2\n3\n4\n5\n"
     ]
    }
   ],
   "source": [
    "# 遍历操作:方式二\n",
    "class Person:\n",
    "    \n",
    "    def __init__(self):\n",
    "        self.age = 0\n",
    "        \n",
    "    def __iter__(self):\n",
    "        return self\n",
    "        \n",
    "    def __next__(self):\n",
    "        self.age += 1\n",
    "        if self.age >= 6:\n",
    "            raise StopIteration('停止遍历')\n",
    "        return self.age\n",
    "    \n",
    "    \n",
    "p = Person()\n",
    "for i in p:\n",
    "    print(i)"
   ]
  },
  {
   "cell_type": "code",
   "execution_count": 10,
   "metadata": {},
   "outputs": [
    {
     "name": "stdout",
     "output_type": "stream",
     "text": [
      "10\n19\n"
     ]
    }
   ],
   "source": [
    "# 描述器：可以描述一个属性操作的对象\n",
    "class Person:\n",
    "    \n",
    "    def __init__(self):\n",
    "        self.__age = 10\n",
    "        \n",
    "    def set_age(self, value):\n",
    "        if value < 0:\n",
    "            self.__age = 0\n",
    "        else:\n",
    "            self.__age = value\n",
    "    \n",
    "    def get_age(self):\n",
    "        return self.__age\n",
    "    \n",
    "    def del_age(self):\n",
    "        del self.__age\n",
    "        \n",
    "    age = property(get_age, set_age, del_age)\n",
    "\n",
    "\n",
    "p = Person()\n",
    "print(p.age)\n",
    "p.age = 19\n",
    "print(p.age)\n"
   ]
  },
  {
   "cell_type": "code",
   "execution_count": 11,
   "metadata": {},
   "outputs": [],
   "source": [
    "# 描述器\n",
    "class Age:\n",
    "    \n",
    "    def __get__(self, instance, owner):\n",
    "        print('get')\n",
    "    \n",
    "    def __set__(self, instance, value):\n",
    "        print('set')\n",
    "        \n",
    "    def __delete__(self, instance):\n",
    "        print('delete')\n",
    "        \n",
    "\n",
    "class Person:\n",
    "    age = Age()     # age对象是共享的\n",
    "    \n",
    "    \n",
    "p = Person()\n",
    "p.age = 18\n",
    "print(p.age)\n",
    "print(p.__dict__)\n",
    "del p.age"
   ]
  },
  {
   "cell_type": "code",
   "execution_count": 12,
   "metadata": {},
   "outputs": [],
   "source": [
    "# 资料描述器（有set，get方法）\n",
    "# 非资料描述器（只有get方法）\n",
    "# 优先级：资料描述器 > 实例属性 > 非资料属性"
   ]
  },
  {
   "cell_type": "code",
   "execution_count": 13,
   "metadata": {},
   "outputs": [
    {
     "name": "stdout",
     "output_type": "stream",
     "text": [
      "登陆验证\n发说说\n登陆验证\n登陆验证\n发说说\n"
     ]
    }
   ],
   "source": [
    "def check(func):\n",
    "    def inner():\n",
    "        print('登陆验证')\n",
    "        func()\n",
    "    return inner\n",
    "\n",
    "\n",
    "# @check\n",
    "def fss():\n",
    "    print('发说说')\n",
    "    \n",
    "    \n",
    "fss = check(fss)\n",
    "fss()\n",
    "f = check(fss)\n",
    "f()"
   ]
  },
  {
   "cell_type": "code",
   "execution_count": 14,
   "metadata": {},
   "outputs": [
    {
     "name": "stdout",
     "output_type": "stream",
     "text": [
      "登陆验证\n发说说\n"
     ]
    }
   ],
   "source": [
    "# 使用类实现装饰器\n",
    "class check:\n",
    "    def __init__(self, func):\n",
    "        self.f = func\n",
    "    \n",
    "    def __call__(self, *args, **kwargs):\n",
    "        print('登陆验证')\n",
    "        self.f()\n",
    "\n",
    "\n",
    "# @check\n",
    "def fss():\n",
    "    print('发说说')\n",
    "    \n",
    "    \n",
    "fss = check(fss)\n",
    "fss()"
   ]
  },
  {
   "cell_type": "code",
   "execution_count": null,
   "metadata": {},
   "outputs": [],
   "source": []
  }
 ],
 "metadata": {
  "kernelspec": {
   "display_name": "Python 2",
   "language": "python",
   "name": "python2"
  },
  "language_info": {
   "codemirror_mode": {
    "name": "ipython",
    "version": 2
   },
   "file_extension": ".py",
   "mimetype": "text/x-python",
   "name": "python",
   "nbconvert_exporter": "python",
   "pygments_lexer": "ipython2",
   "version": "2.7.6"
  }
 },
 "nbformat": 4,
 "nbformat_minor": 0
}
