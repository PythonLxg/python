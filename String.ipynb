{
 "cells": [
  {
   "cell_type": "code",
   "execution_count": 1,
   "metadata": {
    "collapsed": true
   },
   "outputs": [
    {
     "name": "stdout",
     "output_type": "stream",
     "text": [
      "lxg lxg lxg lxg\n"
     ]
    }
   ],
   "source": [
    "# 不可变类型\n",
    "# 非原始字符串\n",
    "a = 'lxg'\n",
    "b = \"lxg\"\n",
    "c = '''lxg'''\n",
    "d = \"\"\"lxg\"\"\"\n",
    "print(a, b, c, d)"
   ]
  },
  {
   "cell_type": "code",
   "execution_count": 2,
   "metadata": {},
   "outputs": [
    {
     "name": "stdout",
     "output_type": "stream",
     "text": [
      "l\nxg\n我是'lxg'\nlxg\nl\\nxg\nl\\nxg\n"
     ]
    }
   ],
   "source": [
    "d = \"\"\"l\\nxg\"\"\"     # 转义字符（\\,\\',\\\",\\n,\\t）\n",
    "print(d)\n",
    "name = '我是\\'lxg\\''      \n",
    "print(name)\n",
    "names = 'l'\\\n",
    "    'xg'\n",
    "'123'\n",
    "print(names)\n",
    "n1 = 'l\\\\nxg'       # 反转义字符\n",
    "n2 = r'l\\nxg'       # 原始字符串\n",
    "print(n1)\n",
    "print(n2)"
   ]
  },
  {
   "cell_type": "code",
   "execution_count": 3,
   "metadata": {},
   "outputs": [
    {
     "name": "stdout",
     "output_type": "stream",
     "text": [
      "sdfwer\nsdffgd\nsdffgd\nli li li li li \nabcdefg\nd\ng\nab\nabcdefg\nfed\ngfe\ngfedcba\nabcdefg\n"
     ]
    }
   ],
   "source": [
    "# 一般操作（字符串拼接，字符串切片）\n",
    "# 字符串拼接\n",
    "result = 'sdf' + 'wer'\n",
    "res = 'sdf'     'fgd'          # 等价与res = 'sdf''fgd'\n",
    "print(result, res, sep='\\n')\n",
    "print('sdf%s' % 'fgd')\n",
    "print('li '*5)\n",
    "# 字符串切片（获取一个字符，获取一个字符串片段）\n",
    "# 获取一个字符\n",
    "name = 'abcdefg'\n",
    "print(name)\n",
    "print(name[3])\n",
    "print(name[-1])     # 等价与name[6]\n",
    "# 获取一个字符串片段     name[起始:结束:步长]  结束取不到\n",
    "print(name[0:2])\n",
    "print(name[::])     # 等价name[0:len(name):1]\n",
    "print(name[5:2:-1])\n",
    "print(name[-1:-4:-1])\n",
    "print(name[::-1])\n",
    "print(name)"
   ]
  },
  {
   "cell_type": "code",
   "execution_count": 4,
   "metadata": {},
   "outputs": [
    {
     "name": "stdout",
     "output_type": "stream",
     "text": [
      "8\n3\n4\n-1\n2\n1\nli li x-q\nal li x-q\nAi li x-q\nAi Li X-Q\nai li x-q\nAI LI X-Q\nai li x-q\n"
     ]
    }
   ],
   "source": [
    "# 字符串函数操作\n",
    "name = 'w e.txt\\n'\n",
    "print(len(name))        # find 从左向右查找 查找不到返回-1\n",
    "names = 'ai li x-q'       # rfind 从右向左查找,index 查找不到返回异常\n",
    "print(names.find('li'))     # 返回子字符串下标索引值\n",
    "print(names.find('i', 2))        # 从索引2开始查找\n",
    "print(names.find('i', 5, 6))        # 从索引2-5开始查找\n",
    "print(names.count('i'))      # 返回子字符串出现次数\n",
    "print(names.count('i', 2, 5)) \n",
    "\n",
    "print(names.replace('a', 'l'))      # a替换成l\n",
    "print(names.replace('i', 'l', 1))      # i替换成l,只替换一个\n",
    "print(names.capitalize())        # 首字母大写\n",
    "print(names.title())        # 字符串每个单词首字母大写\n",
    "print(names.lower())        # 字符串每个字符小写\n",
    "print(names.upper())        # 字符串每个字符大写\n",
    "print(names)"
   ]
  },
  {
   "cell_type": "code",
   "execution_count": 5,
   "metadata": {},
   "outputs": [
    {
     "name": "stdout",
     "output_type": "stream",
     "text": [
      "abcdxx\nxxabcd\nxxxxabcdxxx\nwo shi li  \n wo shi\n"
     ]
    }
   ],
   "source": [
    "name = 'abcd'\n",
    "print(name.ljust(6, 'x'))       # 原字符串靠左\n",
    "print(name.rjust(6, 'x'))       # 原字符串靠右\n",
    "print(name.center(11, 'x'))       # 原字符串靠中心\n",
    "wo = '  wo shi li  '\n",
    "names = 'wooow wo shi'\n",
    "print(wo.lstrip())      # 仅仅移除左侧空格       默认移除的是空格   rstrip 功能类似   \n",
    "print(names.lstrip('wo'))      # 移除从左侧开始的'w','o'   "
   ]
  },
  {
   "cell_type": "code",
   "execution_count": 6,
   "metadata": {},
   "outputs": [
    {
     "name": "stdout",
     "output_type": "stream",
     "text": [
      "['li', '18', '170', '130-65174024']\nli-18-170-130-65174024\nli-18-nanchang\n"
     ]
    }
   ],
   "source": [
    "name = 'li-18-170-130-65174024'\n",
    "print(name.split('-', 3))       # 从左开始以'-'分割前三个,返回值是list类型\n",
    "print(name)                     # 类似有partition，rpartition\n",
    "\n",
    "item = ['li', '18', 'nanchang']\n",
    "result = '-'.join(item)\n",
    "print(result)       # 以'-'拼接可迭代对象"
   ]
  },
  {
   "cell_type": "code",
   "execution_count": 7,
   "metadata": {},
   "outputs": [
    {
     "name": "stdout",
     "output_type": "stream",
     "text": [
      "False\nFalse\nTrue\nFalse\nTrue\nFalse\nFalse\nTrue\nTrue\nFalse\nTrue\nTrue\nFalse\n"
     ]
    }
   ],
   "source": [
    "n = ''\n",
    "n1 = 'Sz wef sdf'\n",
    "n2 = '233'\n",
    "n3 = '344 54\\n6'\n",
    "n4 = 'sdghjg34'\n",
    "print(n1.isalpha())     # 只包含字母\n",
    "print(n.isalpha())\n",
    "print(n2.isdigit())     # 只包含数字\n",
    "print(n3.isdigit())\n",
    "print(n4.isalnum())     # 只包含数字或数字\n",
    "print(n1.isspace())     # 所有字符都是空字符\n",
    "print(n.isspace())\n",
    "\n",
    "a = '2018-09-12:li.txt'\n",
    "print(a.startswith('2018'))     # 判定是否是以2018开始的字符串\n",
    "print(a.startswith('18', 2))        # 判定是否是从索引2以18开始的字符串\n",
    "print(a.startswith('18', 0, 4))        # 判定是否是从索引0以18开始的字符串\n",
    "print(a.endswith('.txt'))       # 判定是否是以'.txt'结尾的字符串\n",
    "\n",
    "print('li' in 'wo shi li')\n",
    "print('li' not in 'wo shi li')"
   ]
  },
  {
   "cell_type": "code",
   "execution_count": null,
   "metadata": {},
   "outputs": [],
   "source": []
  }
 ],
 "metadata": {
  "kernelspec": {
   "display_name": "Python 2",
   "language": "python",
   "name": "python2"
  },
  "language_info": {
   "codemirror_mode": {
    "name": "ipython",
    "version": 2
   },
   "file_extension": ".py",
   "mimetype": "text/x-python",
   "name": "python",
   "nbconvert_exporter": "python",
   "pygments_lexer": "ipython2",
   "version": "2.7.6"
  }
 },
 "nbformat": 4,
 "nbformat_minor": 0
}
