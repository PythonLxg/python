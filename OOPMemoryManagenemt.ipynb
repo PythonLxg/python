{
 "cells": [
  {
   "cell_type": "code",
   "execution_count": 1,
   "metadata": {
    "collapsed": true
   },
   "outputs": [
    {
     "name": "stdout",
     "output_type": "stream",
     "text": [
      "新建了一个对象，但是被我拦截了\n"
     ]
    }
   ],
   "source": [
    "class Person:\n",
    "    \n",
    "    def __new__(cls, *args, **kwargs):\n",
    "        print('新建了一个对象，但是被我拦截了')\n",
    "        \n",
    "    def __init__(self):\n",
    "        print('初始化一个方法')\n",
    "        \n",
    "    def __del__(self):\n",
    "        print('这个对象被释放了')\n",
    "        \n",
    "\n",
    "p = Person()\n",
    "del p       # 执行__del__方法"
   ]
  },
  {
   "cell_type": "code",
   "execution_count": 2,
   "metadata": {},
   "outputs": [
    {
     "name": "stdout",
     "output_type": "stream",
     "text": [
      "计数+1\n计数+1\n当前人数：2\n计数-1\n计数-1\n当前人数：0\n"
     ]
    }
   ],
   "source": [
    "# 监听对象生命周期\n",
    "class Person:\n",
    "    __count = 0 \n",
    "    \n",
    "    def __init__(self):\n",
    "        print('计数+1')\n",
    "        Person.__count += 1\n",
    "        \n",
    "    def __del__(self):\n",
    "        print('计数-1')\n",
    "        Person.__count -= 1\n",
    "        \n",
    "    @classmethod\n",
    "    def log(cls):\n",
    "        print('当前人数：%d' % cls.__count)\n",
    "        \n",
    "    \n",
    "p = Person()\n",
    "p1 = Person()\n",
    "Person.log()\n",
    "del p\n",
    "del p1\n",
    "Person.log()"
   ]
  },
  {
   "cell_type": "code",
   "execution_count": 3,
   "metadata": {},
   "outputs": [
    {
     "name": "stdout",
     "output_type": "stream",
     "text": [
      "<__main__.Person object at 0x00000275BA9E7B00>\n2704665377536\n0x275ba9e7b00\n2\n3\n2\n"
     ]
    }
   ],
   "source": [
    "# 引用计数器\n",
    "import sys\n",
    "\n",
    "\n",
    "class Person:\n",
    "    pass\n",
    "\n",
    "\n",
    "p = Person()\n",
    "\n",
    "print(p)\n",
    "print(id(p))\n",
    "print(hex(id(p)))\n",
    "\n",
    "print(sys.getrefcount(p))       # 对象p作为参数会被先引用一次，比实际引用对象大一\n",
    "p2 = p\n",
    "print(sys.getrefcount(p))\n",
    "del p2\n",
    "print(sys.getrefcount(p))\n",
    "del p       # 会报错\n",
    "\n",
    "# 引用计数+1场景：1：对象被创建，p = Person()  2：对象被引用，p2 = p \n",
    "# 3：对象被作为一个参数传入到一个函数中     4：对象作为元素存储在容器中\n",
    "# 引用计数-1场景：1：对象别名被显式销毁，del p  2：对象的别名被赋予新的对象，p = 123\n",
    "# 3：一个对象离开它的作用域     4：对象所在的容器被销毁或从容器中销毁对象"
   ]
  },
  {
   "cell_type": "code",
   "execution_count": 4,
   "metadata": {},
   "outputs": [],
   "source": [
    "# 垃圾回收：从经历过引用计数机制仍未被释放的对象中，找到循环引用，干掉相关对象.需要 import gc\n",
    "# objgraph.count('Person')可以查看引用次数\n",
    "# 对象分为容器对象和非容器对象\n",
    "# 垃圾回收机制触发：1，自动回收：开启垃圾回收机制，并且达到了垃圾回收的阈值\n",
    "# 2，手动回收：加上gc.collect()\n",
    "\n",
    "\n",
    "class Person:\n",
    "    pass\n",
    "\n",
    "\n",
    "class Dog:\n",
    "    pass\n",
    "\n",
    "\n",
    "p = Person()\n",
    "d = Dog()\n",
    "# p.pet = d ,d.master = p         # 循环索引\n",
    "# p.pet = d ,d.master = weakref.ref(p)     # 弱引用，可以用于手动解决循环索引\n",
    "del p\n",
    "del d"
   ]
  },
  {
   "cell_type": "code",
   "execution_count": null,
   "metadata": {},
   "outputs": [],
   "source": []
  }
 ],
 "metadata": {
  "kernelspec": {
   "display_name": "Python 2",
   "language": "python",
   "name": "python2"
  },
  "language_info": {
   "codemirror_mode": {
    "name": "ipython",
    "version": 2
   },
   "file_extension": ".py",
   "mimetype": "text/x-python",
   "name": "python",
   "nbconvert_exporter": "python",
   "pygments_lexer": "ipython2",
   "version": "2.7.6"
  }
 },
 "nbformat": 4,
 "nbformat_minor": 0
}
