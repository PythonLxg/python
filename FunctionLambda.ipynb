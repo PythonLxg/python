{
 "cells": [
  {
   "cell_type": "code",
   "execution_count": 1,
   "metadata": {
    "collapsed": true
   },
   "outputs": [
    {
     "name": "stdout",
     "output_type": "stream",
     "text": [
      "[13, -1]\n"
     ]
    }
   ],
   "source": [
    "# 返回值:return后续代码不会被执行，只能返回一次\n",
    "def cal(a, b=1):\n",
    "    \"\"\"\n",
    "    实现两个数值之间的和与减操作\n",
    "    :param a: 数值1，数值类型，不可选，没有默认参数\n",
    "    :param b: 数值2，数值类型，可选，有默认参数\n",
    "    :return: 返回计算结果，list类型：[he，jian]\n",
    "    \"\"\"\n",
    "    he = a + b\n",
    "    cha = a - b\n",
    "    return [he, cha]              # 返回多个数据，可以整体返回list，tuple，dictory\n",
    "\n",
    "\n",
    "res = cal(6, 7)\n",
    "print(res)"
   ]
  },
  {
   "cell_type": "code",
   "execution_count": 2,
   "metadata": {},
   "outputs": [
    {
     "name": "stdout",
     "output_type": "stream",
     "text": [
      "functools.partial(<function test at 0x000002441108D158>, c=1) <class 'functools.partial'>\n9\n"
     ]
    }
   ],
   "source": [
    "# 偏函数\n",
    "import functools\n",
    "\n",
    "\n",
    "def test(a, b, c, d=4):\n",
    "    res = a + b + c + d\n",
    "    return res\n",
    "\n",
    "\n",
    "test1 = functools.partial(test, c=1)\n",
    "print(test1, type(test1))\n",
    "print(test1(1, 3))"
   ]
  },
  {
   "cell_type": "code",
   "execution_count": 3,
   "metadata": {},
   "outputs": [
    {
     "name": "stdout",
     "output_type": "stream",
     "text": [
      "[{'name': 'wang', 'age': 16}, {'name': 'li', 'age': 18}, {'name': 'wu', 'age': 20}]\n"
     ]
    }
   ],
   "source": [
    "# 高阶函数:一个函数的参数接收的是另一个函数\n",
    "l = [{'name': 'li', 'age': 18}, {'name': 'wang', 'age': 16}, {'name': 'wu', 'age': 20}]  \n",
    "\n",
    "\n",
    "def getKey(x):\n",
    "    return x['age']\n",
    "\n",
    "\n",
    "result = sorted(l, key=getKey)\n",
    "print(result)"
   ]
  },
  {
   "cell_type": "code",
   "execution_count": 4,
   "metadata": {},
   "outputs": [],
   "source": [
    "# 返回函数：一个函数内部，它返回的数据是另一个函数\n",
    "def cal(flag):\n",
    "    def mySum(a, b, c):\n",
    "        return a + b + c\n",
    "    def myCha(a, b, c):\n",
    "        return a - b - c\n",
    "    if flag == '+':\n",
    "        return mySum\n",
    "    elif flag == '-':\n",
    "        return myCha\n",
    "\n",
    "    \n",
    "result = cal('+')\n",
    "res = result(1, 2, 3)\n",
    "print(res)"
   ]
  },
  {
   "cell_type": "code",
   "execution_count": 5,
   "metadata": {},
   "outputs": [
    {
     "name": "stdout",
     "output_type": "stream",
     "text": [
      "5\n3\n[{'name': 'wang', 'age': 16}, {'name': 'li', 'age': 18}, {'name': 'wu', 'age': 20}]\n"
     ]
    }
   ],
   "source": [
    "# lambda函数:只能写一个表达式，没有返回值，表达式的结果就是返回值\n",
    "res = (lambda x, y: x + y)(2, 3)\n",
    "print(res)\n",
    "res1 = lambda x, y: x + y\n",
    "print(res1(1, 2))\n",
    "\n",
    "l = [{'name': 'li', 'age': 18}, {'name': 'wang', 'age': 16}, {'name': 'wu', 'age': 20}]  \n",
    "result = sorted(l, key=lambda x: x['age'])\n",
    "print(result)"
   ]
  },
  {
   "cell_type": "code",
   "execution_count": null,
   "metadata": {},
   "outputs": [],
   "source": []
  }
 ],
 "metadata": {
  "kernelspec": {
   "display_name": "Python 2",
   "language": "python",
   "name": "python2"
  },
  "language_info": {
   "codemirror_mode": {
    "name": "ipython",
    "version": 2
   },
   "file_extension": ".py",
   "mimetype": "text/x-python",
   "name": "python",
   "nbconvert_exporter": "python",
   "pygments_lexer": "ipython2",
   "version": "2.7.6"
  }
 },
 "nbformat": 4,
 "nbformat_minor": 0
}
