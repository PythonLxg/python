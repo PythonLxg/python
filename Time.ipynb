{
 "cells": [
  {
   "cell_type": "code",
   "execution_count": 1,
   "metadata": {
    "collapsed": true
   },
   "outputs": [
    {
     "name": "stdout",
     "output_type": "stream",
     "text": [
      "1539263050.997686\ntime.struct_time(tm_year=2018, tm_mon=10, tm_mday=11, tm_hour=21, tm_min=4, tm_sec=10, tm_wday=3, tm_yday=284, tm_isdst=0)\nThu Oct 11 21:04:10 2018\nThu Oct 11 21:04:10 2018\n"
     ]
    }
   ],
   "source": [
    "# 时间戳，从0时区的1970年1月1日0时0分0秒到给定日期时间的秒数\n",
    "import time\n",
    "result = time.time()\n",
    "print(result)       # 时间戳\n",
    "time_tuple = time.localtime()    # 时间元组，默认当前时间戳\n",
    "print(time_tuple)\n",
    "print(time.ctime(result))   # 格式化的时间，参数是时间戳\n",
    "print(time.asctime(time_tuple))     # 格式化的时间，参数是时间元组 "
   ]
  },
  {
   "cell_type": "code",
   "execution_count": 2,
   "metadata": {},
   "outputs": [],
   "source": [
    "# 格式化日期字符串\n",
    "ft = time.strftime('%Y-%m-%d %H:%M:%S', time.localtime())   # time.strftime(格式字符串，时间元组)，时间戳转格式时间\n",
    "print(ft)\n",
    "pt = time.strptime('2015-08-04 12:20:20', '%Y-%m-%d %H:%M:%S')  # time.strptime(日期字符串,格式字符串)格式时间转时间元组\n",
    "print(pt)\n",
    "print(time.mktime(pt))      # 时间元组转成时间戳"
   ]
  },
  {
   "cell_type": "code",
   "execution_count": 3,
   "metadata": {},
   "outputs": [
    {
     "name": "stdout",
     "output_type": "stream",
     "text": [
      "[0, 1, 2, 3, 4, 5, 6, 7, 8, 9, 10, 11, 12, 13, 14, 15, 16, 17, 18, 19, 20, 21, 22, 23, 24, 25, 26, 27, 28, 29, 30, 31, 32, 33, 34, 35, 36, 37, 38, 39, 40, 41, 42, 43, 44, 45, 46, 47, 48, 49, 50, 51, 52, 53, 54, 55, 56, 57, 58, 59, 60, 61, 62, 63, 64, 65, 66, 67, 68, 69, 70, 71, 72, 73, 74, 75, 76, 77, 78, 79, 80, 81, 82, 83, 84, 85, 86, 87, 88, 89, 90, 91, 92, 93, 94, 95, 96, 97, 98, 99]\n0.00015318855815125057\n"
     ]
    }
   ],
   "source": [
    "start = time.clock()\n",
    "print([i for i in range(100)])\n",
    "end = time.clock()\n",
    "print(end - start)      # 程序执行时间     time.sleep(1) 暂停一秒"
   ]
  },
  {
   "cell_type": "code",
   "execution_count": 4,
   "metadata": {},
   "outputs": [
    {
     "name": "stdout",
     "output_type": "stream",
     "text": [
      "     July 2017\nMo Tu We Th Fr Sa Su\n                1  2\n 3  4  5  6  7  8  9\n10 11 12 13 14 15 16\n17 18 19 20 21 22 23\n24 25 26 27 28 29 30\n31\n\n"
     ]
    }
   ],
   "source": [
    "import calendar\n",
    "print(calendar.month(2017, 7))"
   ]
  },
  {
   "cell_type": "code",
   "execution_count": 5,
   "metadata": {},
   "outputs": [
    {
     "name": "stdout",
     "output_type": "stream",
     "text": [
      "2018-10-11 21:04:20.097379 <class 'datetime.datetime'>\n2018-10-11 21:04:20.097379\n2018\n10\n11\n2018-10-18 21:04:20.097379\n2017-02-07 12:12:00 <class 'datetime.datetime'>\n23 days, 21:58:00 <class 'datetime.timedelta'>\n2066280.0\n"
     ]
    }
   ],
   "source": [
    "import datetime\n",
    "t = datetime.datetime.now()\n",
    "print(t, type(t))\n",
    "print(datetime.datetime.today())\n",
    "print(t.year)\n",
    "print(t.month)\n",
    "print(t.day)\n",
    "\n",
    "t1 = t + datetime.timedelta(days=7)\n",
    "print(t1)\n",
    "\n",
    "start = datetime.datetime(2017, 2, 7, 12, 12, 00)\n",
    "end = datetime.datetime(2017, 3, 3, 10, 10, 00)\n",
    "delta = end - start\n",
    "print(start, type(start))\n",
    "print(delta, type(delta))\n",
    "print(delta.total_seconds())"
   ]
  },
  {
   "cell_type": "code",
   "execution_count": null,
   "metadata": {},
   "outputs": [],
   "source": []
  }
 ],
 "metadata": {
  "kernelspec": {
   "display_name": "Python 2",
   "language": "python",
   "name": "python2"
  },
  "language_info": {
   "codemirror_mode": {
    "name": "ipython",
    "version": 2
   },
   "file_extension": ".py",
   "mimetype": "text/x-python",
   "name": "python",
   "nbconvert_exporter": "python",
   "pygments_lexer": "ipython2",
   "version": "2.7.6"
  }
 },
 "nbformat": 4,
 "nbformat_minor": 0
}
