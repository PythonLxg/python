{
 "cells": [
  {
   "cell_type": "code",
   "execution_count": 1,
   "metadata": {
    "collapsed": true
   },
   "outputs": [
    {
     "name": "stdout",
     "output_type": "stream",
     "text": [
      "这是一个实例方法 <__main__.Person object at 0x0000025C22C36240>\n这是一个类方法 <class '__main__.Person'>\n这是一个静态方法\n{'dongzuo': <function run at 0x0000025C22C28BF8>}\n{'__module__': '__main__', 'eat': <function Person.eat at 0x0000025C22C28378>, 'leifangfa': <classmethod object at 0x0000025C22C36208>, 'jingtaifangfa': <staticmethod object at 0x0000025C22C36278>, '__dict__': <attribute '__dict__' of 'Person' objects>, '__weakref__': <attribute '__weakref__' of 'Person' objects>, '__doc__': None}\n"
     ]
    }
   ],
   "source": [
    "# 方法的划分：类方法，实例方法，静态方法\n",
    "class Person:\n",
    "    \n",
    "    def eat(self):      # 实例方法接收的第一个参数是实例\n",
    "        print('这是一个实例方法', self)\n",
    "        \n",
    "    @classmethod\n",
    "    def leifangfa(cls):     # 类方法接收的第一个参数是类\n",
    "        print('这是一个类方法', cls)\n",
    "        \n",
    "    @staticmethod\n",
    "    def jingtaifangfa():        # 静态方法接收的第一个参数并没有任何限制        \n",
    "        print('这是一个静态方法')\n",
    "        \n",
    "        \n",
    "p = Person()\n",
    "p.eat()     # Person.eat()会报错\n",
    "Person.leifangfa()\n",
    "Person.jingtaifangfa()\n",
    "\n",
    "\n",
    "def run():\n",
    "    pass\n",
    "\n",
    "\n",
    "p.dongzuo = run             # run也是对象\n",
    "print(p.__dict__)           \n",
    "print(Person.__dict__)      # 方法也存储在类的__dict__中"
   ]
  },
  {
   "cell_type": "code",
   "execution_count": 2,
   "metadata": {},
   "outputs": [
    {
     "name": "stdout",
     "output_type": "stream",
     "text": [
      "在吃饭，在吃土豆，<__main__.Person object at 0x0000025C22C4A748>\n这是一个类方法 <class '__main__.Person'> 123\n这是一个类方法 <class '__main__.Person'> 666\n这是一个类方法 <class '__main__.Person'> 12345\n这是一个静态方法\n这是一个静态方法\n这是一个静态方法\n"
     ]
    }
   ],
   "source": [
    "# 实例方法调用\n",
    "class Person:\n",
    "    \n",
    "    def eat(self, food):      \n",
    "        print('在吃饭，在吃{0}，{1}'.format(food, self))\n",
    "    \n",
    "    @classmethod\n",
    "    def leifangfa(cls, a):     \n",
    "        print('这是一个类方法', cls, a)\n",
    "        \n",
    "    @staticmethod\n",
    "    def jingtai():               \n",
    "        print('这是一个静态方法')\n",
    "\n",
    "\n",
    "# 实例方法标准调用\n",
    "p = Person()\n",
    "p.eat('土豆')     # 如果没有接收任何参数就会报错\n",
    "# 其他调用就是类的调用\n",
    "\n",
    "# 类方法调用\n",
    "Person.leifangfa(123)       # 类的调用\n",
    "\n",
    "p.leifangfa(666)    # 实例调用，实例p被忽略，但会把实例p对应的类传递给类方法的第一个参数\n",
    "\n",
    "func = Person.leifangfa     # 间接调用\n",
    "func(12345)\n",
    "# 静态方法调用\n",
    "Person.jingtai()        # 类调用\n",
    "p.jingtai()         # 实例调用\n",
    "func = Person.jingtai       # 间接调用\n",
    "func()"
   ]
  },
  {
   "cell_type": "code",
   "execution_count": 3,
   "metadata": {},
   "outputs": [
    {
     "name": "stdout",
     "output_type": "stream",
     "text": [
      "<__main__.Person object at 0x0000025C22C36B38>\n0\n10\n<class '__main__.Person'>\n0\n<class '__main__.Person'>\n0\n0\n0\n"
     ]
    }
   ],
   "source": [
    "class Person:\n",
    "    age = 0\n",
    "    \n",
    "    def shilifangfa(self):\n",
    "        print(self)\n",
    "        print(self.age)\n",
    "        print(self.num)\n",
    "    \n",
    "    @classmethod\n",
    "    def leifangfa(cls):     \n",
    "        print(cls)\n",
    "        print(cls.age)      # 不能访问cls.num\n",
    "        \n",
    "    @staticmethod\n",
    "    def jingtaifangfa():               \n",
    "        print(Person.age)\n",
    "        \n",
    "        \n",
    "p = Person()\n",
    "p.num = 10\n",
    "\n",
    "p.shilifangfa()\n",
    "\n",
    "p.leifangfa()\n",
    "Person.leifangfa()\n",
    "\n",
    "p.jingtaifangfa()\n",
    "Person.jingtaifangfa()"
   ]
  },
  {
   "cell_type": "code",
   "execution_count": null,
   "metadata": {},
   "outputs": [],
   "source": []
  }
 ],
 "metadata": {
  "kernelspec": {
   "display_name": "Python 2",
   "language": "python",
   "name": "python2"
  },
  "language_info": {
   "codemirror_mode": {
    "name": "ipython",
    "version": 2
   },
   "file_extension": ".py",
   "mimetype": "text/x-python",
   "name": "python",
   "nbconvert_exporter": "python",
   "pygments_lexer": "ipython2",
   "version": "2.7.6"
  }
 },
 "nbformat": 4,
 "nbformat_minor": 0
}
