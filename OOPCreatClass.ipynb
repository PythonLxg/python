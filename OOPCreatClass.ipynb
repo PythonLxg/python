{
 "cells": [
  {
   "cell_type": "code",
   "execution_count": 1,
   "metadata": {
    "collapsed": true
   },
   "outputs": [],
   "source": [
    "# 创建类方法一：经典创建类\n",
    "class Person:\n",
    "    age = 10\n",
    "    \n",
    "    def run(self):\n",
    "        pass"
   ]
  },
  {
   "cell_type": "code",
   "execution_count": 2,
   "metadata": {},
   "outputs": [
    {
     "name": "stdout",
     "output_type": "stream",
     "text": [
      "<class 'type'>\n<class 'type'>\n"
     ]
    }
   ],
   "source": [
    "# 元类：创建类对象的类\n",
    "print(int.__class__)\n",
    "print(Person.__class__)"
   ]
  },
  {
   "cell_type": "code",
   "execution_count": 3,
   "metadata": {},
   "outputs": [
    {
     "name": "stdout",
     "output_type": "stream",
     "text": [
      "<class '__main__.Dog'> {'count': 666, 'run': <function run at 0x000001FCE637B488>, '__module__': '__main__', '__dict__': <attribute '__dict__' of 'Dog' objects>, '__weakref__': <attribute '__weakref__' of 'Dog' objects>, '__doc__': None}\n---- <__main__.Dog object at 0x000001FCE6397BE0>\n"
     ]
    }
   ],
   "source": [
    "# 创建类方法二：用元类创建类对象 \n",
    "def run(self):\n",
    "    print('----', self)\n",
    "\n",
    "\n",
    "xxx = type('Dog', (), {'count': 666, 'run': run})\n",
    "print(xxx, xxx.__dict__)\n",
    "d = xxx()\n",
    "d.run()"
   ]
  },
  {
   "cell_type": "code",
   "execution_count": 4,
   "metadata": {},
   "outputs": [],
   "source": [
    "# 内置的type创建类对象 系统级别,作用范围在整个系统\n",
    "# __metaclass__ = xxx   模块级别,作用范围在整个模块\n",
    "\n",
    "\n",
    "class Animal:\n",
    "    # __metaclass__ = xxx   父类级别,作用范围在父类\n",
    "    pass\n",
    "\n",
    "\n",
    "class Person(Animal):\n",
    "    # __metaclass__ = xxx   子类级别,作用范围在子类\n",
    "    pass\n",
    "\n",
    "\n",
    "class Dog(Animal):\n",
    "    # __metaclass__ = xxx   子类级别,作用范围在子类\n",
    "    pass"
   ]
  },
  {
   "cell_type": "code",
   "execution_count": 5,
   "metadata": {},
   "outputs": [
    {
     "name": "stdout",
     "output_type": "stream",
     "text": [
      "Help on class Person in module __main__:\n\nclass Person(builtins.object)\n |  关于这个类的描述，类的作用，类的构造函数等等；\n |  类属性的描述；\n |  Attributes:\n |      age: int 人的年龄\n |  \n |  Methods defined here:\n |  \n |  run(self, distance, steps)\n |      关于这个方法的作用\n |      :param distance: 参数的含义，类型，有无默认值\n |      :param steps: \n |      :return: 返回值的含义，返回的数据类型\n |  \n |  ----------------------------------------------------------------------\n |  Data descriptors defined here:\n |  \n |  __dict__\n |      dictionary for instance variables (if defined)\n |  \n |  __weakref__\n |      list of weak references to the object (if defined)\n |  \n |  ----------------------------------------------------------------------\n |  Data and other attributes defined here:\n |  \n |  age = 20\n\n"
     ]
    }
   ],
   "source": [
    "# 类的注释：描述类\n",
    "class Person:\n",
    "    \"\"\"\n",
    "    关于这个类的描述，类的作用，类的构造函数等等；\n",
    "    类属性的描述；\n",
    "    Attributes:\n",
    "        age: int 人的年龄\n",
    "    \"\"\"\n",
    "    # 人的年龄\n",
    "    age = 20\n",
    "    \n",
    "    def run(self, distance, steps):\n",
    "        \"\"\"\n",
    "        关于这个方法的作用\n",
    "        :param distance: 参数的含义，类型，有无默认值\n",
    "        :param steps: \n",
    "        :return: 返回值的含义，返回的数据类型 \n",
    "        \"\"\"\n",
    "        print('在跑')\n",
    "        return distance / steps\n",
    "\n",
    "    \n",
    "help(Person)"
   ]
  },
  {
   "cell_type": "code",
   "execution_count": 6,
   "metadata": {},
   "outputs": [],
   "source": [
    "# 生成项目文档\n",
    "# python3 --help\n",
    "# python3 -m pydoc -h\n",
    "# python3 -m pydoc 模块名\n",
    "# python3 -m pydoc -k 关键字   \n",
    "# python3 -m pydoc -b   \n",
    "# python3 -m pydoc -w 模块名   "
   ]
  },
  {
   "cell_type": "code",
   "execution_count": null,
   "metadata": {},
   "outputs": [],
   "source": []
  }
 ],
 "metadata": {
  "kernelspec": {
   "display_name": "Python 2",
   "language": "python",
   "name": "python2"
  },
  "language_info": {
   "codemirror_mode": {
    "name": "ipython",
    "version": 2
   },
   "file_extension": ".py",
   "mimetype": "text/x-python",
   "name": "python",
   "nbconvert_exporter": "python",
   "pygments_lexer": "ipython2",
   "version": "2.7.6"
  }
 },
 "nbformat": 4,
 "nbformat_minor": 0
}
