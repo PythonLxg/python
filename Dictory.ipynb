{
 "cells": [
  {
   "cell_type": "code",
   "execution_count": 1,
   "metadata": {
    "collapsed": true
   },
   "outputs": [
    {
     "name": "stdout",
     "output_type": "stream",
     "text": [
      "{1: 5, 3: 4}\n{'name': 'li', 'age': 18} <class 'dict'>\nli\n{'a': [666, 8, 5], 'b': [666, 8, 5], 'c': [666, 8, 5]}\n"
     ]
    }
   ],
   "source": [
    "# 无序的，可变的键值对集合\n",
    "# 创建\n",
    "person = {'name': 'li', 'age': 18}\n",
    "n = {1: 2, 3: 4, 1: 5}      # key值不能重复，后值把前值覆盖，还必须是不可变类型\n",
    "print(n)\n",
    "print(person, type(person))\n",
    "print(person['name'])\n",
    "\n",
    "d = dict.fromkeys('abc', [666, 8, 5])\n",
    "print(d)"
   ]
  },
  {
   "cell_type": "code",
   "execution_count": 2,
   "metadata": {},
   "outputs": [
    {
     "name": "stdout",
     "output_type": "stream",
     "text": [
      "{'name': 'li', 'age': 18} <class 'dict'> 2300338155240\n{'name': 'li', 'age': 18, 'height': 180} <class 'dict'> 2300338155240\n"
     ]
    }
   ],
   "source": [
    "# 常用操作\n",
    "# 增\n",
    "d = {'name': 'li', 'age': 18}\n",
    "print(d, type(d), id(d))\n",
    "d['height'] = 180\n",
    "print(d, type(d), id(d))"
   ]
  },
  {
   "cell_type": "code",
   "execution_count": 3,
   "metadata": {},
   "outputs": [
    {
     "name": "stdout",
     "output_type": "stream",
     "text": [
      "{'name': 'li'}\n{'name': 'li'} 18\n{'name': 'li'} ('age', 18)\n{} None\n"
     ]
    }
   ],
   "source": [
    "# 删\n",
    "d = {'name': 'li', 'age': 18}\n",
    "del d['age']        # 删除的key不存在时会报错，del d 删除了所有的\n",
    "print(d)\n",
    "\n",
    "n = {'name': 'li', 'age': 18}\n",
    "r = n.pop('age')        # 删除指定的键值对，并返回对应的值\n",
    "print(n, r)\n",
    "\n",
    "n1 = {'name': 'li', 'age': 18}\n",
    "r = n1.popitem()        # 删除按升序的第一个键值对，并以元组形式返回对应的键值对\n",
    "print(n, r)\n",
    "\n",
    "n2 = {'name': 'li', 'age': 18}\n",
    "r = n2.clear()        # 删除所有的键值对，并以None\n",
    "print(n2, r)"
   ]
  },
  {
   "cell_type": "code",
   "execution_count": 4,
   "metadata": {},
   "outputs": [
    {
     "name": "stdout",
     "output_type": "stream",
     "text": [
      "{'name': 'li', 'age': 18}\n{'name': 'li', 'age': 23}\n{'name': 'li', 'age': 23, 'adress': 'nanchang', 'tel': 123456}\n"
     ]
    }
   ],
   "source": [
    "# 改\n",
    "# 修改单个键值对\n",
    "d = {'name': 'li', 'age': 18}\n",
    "print(d)\n",
    "d['age'] = 23\n",
    "print(d)\n",
    "\n",
    "# 批量修改键值对\n",
    "d.update({'adress': 'nanchang', 'tel': 123456})\n",
    "print(d)"
   ]
  },
  {
   "cell_type": "code",
   "execution_count": 5,
   "metadata": {},
   "outputs": [
    {
     "name": "stdout",
     "output_type": "stream",
     "text": [
      "18\nNone\nnanchang\n{'name': 'li', 'age': 18}\nnanchang\n{'name': 'li', 'age': 18, 'add': 'nanchang'}\n"
     ]
    }
   ],
   "source": [
    "# 查\n",
    "# 获取单个值\n",
    "d = {'name': 'li', 'age': 18}\n",
    "print(d['age'])     # key如果不存在就会报错\n",
    "\n",
    "print(d.get('tel'))     # key如果不存在就会取默认值，否则返回None\n",
    "print(d.get('add', 'nanchang'))\n",
    "print(d)\n",
    "\n",
    "print(d.setdefault('add', 'nanchang'))      # key如果不存在就会设定默认值，否则返回None      \n",
    "print(d)"
   ]
  },
  {
   "cell_type": "code",
   "execution_count": 6,
   "metadata": {},
   "outputs": [
    {
     "name": "stdout",
     "output_type": "stream",
     "text": [
      "dict_keys(['name', 'age', 'tel']) <class 'dict_keys'> ['name', 'age', 'tel']\ndict_values(['li', 18, 1234556])\ndict_items([('name', 'li'), ('age', 18), ('tel', 1234556)])\n"
     ]
    }
   ],
   "source": [
    "# 获取所有键\n",
    "d = {'name': 'li', 'age': 18, 'tel': 1234556}\n",
    "n = d.keys()\n",
    "n1 = list(n)\n",
    "print(n, type(n), n1)       # 视图对象\n",
    "#  获取所有值\n",
    "print(d.values())\n",
    "#  获取所有键值对\n",
    "print(d.items())"
   ]
  },
  {
   "cell_type": "code",
   "execution_count": 7,
   "metadata": {},
   "outputs": [
    {
     "name": "stdout",
     "output_type": "stream",
     "text": [
      "name li\nage 18\ntel 1234556\nname li\nage 18\ntel 1234556\nadd nanchang\n"
     ]
    }
   ],
   "source": [
    "# 遍历\n",
    "d = {'name': 'li', 'age': 18, 'tel': 1234556}\n",
    "keys = d.keys()\n",
    "for key in keys:\n",
    "    print(key, d[key])\n",
    "    \n",
    "kvs = d.items()\n",
    "d['add'] = 'nanchang'\n",
    "for k, v in kvs:\n",
    "    print(k, v)"
   ]
  },
  {
   "cell_type": "code",
   "execution_count": 8,
   "metadata": {},
   "outputs": [
    {
     "name": "stdout",
     "output_type": "stream",
     "text": [
      "3\nTrue\n"
     ]
    }
   ],
   "source": [
    "# 计算\n",
    "d = {'name': 'li', 'age': 18, 'tel': 1234556}\n",
    "print(len(d))\n",
    "\n",
    "# 判定\n",
    "t = 'name' in d\n",
    "print(t)"
   ]
  },
  {
   "cell_type": "code",
   "execution_count": null,
   "metadata": {},
   "outputs": [],
   "source": []
  }
 ],
 "metadata": {
  "kernelspec": {
   "display_name": "Python 2",
   "language": "python",
   "name": "python2"
  },
  "language_info": {
   "codemirror_mode": {
    "name": "ipython",
    "version": 2
   },
   "file_extension": ".py",
   "mimetype": "text/x-python",
   "name": "python",
   "nbconvert_exporter": "python",
   "pygments_lexer": "ipython2",
   "version": "2.7.6"
  }
 },
 "nbformat": 4,
 "nbformat_minor": 0
}
