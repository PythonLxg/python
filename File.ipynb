{
 "cells": [
  {
   "cell_type": "code",
   "execution_count": 1,
   "metadata": {
    "collapsed": true
   },
   "outputs": [
    {
     "name": "stdout",
     "output_type": "stream",
     "text": [
      "hello\n"
     ]
    }
   ],
   "source": [
    "# 文件：持久性的存储数据内容，根据文件内容分为文本文件和二进制文件\n",
    "# 文件模式：r（默认模式，以只读方式打开文件，指针放在文件开头，文件如果不存在就会报错）\n",
    "# w：（以只写方式打开文件，指针放在文件开头，所以写入新内容会完全覆盖原文件，文件不存在会创建新文件）\n",
    "# a：（以追加（只写）方式打开文件，指针放在文件结尾，所以写入新内容会追加到原文件末尾，文件不存在会创建新文件）\n",
    "# 增加b：以二进制格式进行文件操作读写\n",
    "# 增加+：r+（读写）部分覆盖，有六种模式\n",
    "f = open('a.txt', 'w', encoding='utf-8')\n",
    "f.write('hello')\n",
    "f.close()\n",
    "\n",
    "f1 = open('a.txt', 'r')\n",
    "result = f1.read()\n",
    "print(result)\n",
    "f1.close()\n",
    "\n",
    "f = open('a.txt', 'a')\n",
    "f.write('nihao')\n",
    "f.close()\n",
    "\n",
    "fromFile = open('lixiaogen.jpg', 'rb')\n",
    "fromContent = fromFile.read()\n",
    "fromFile.close()\n",
    "\n",
    "toFile = open('li.jpg', 'wb')\n",
    "content = fromContent[0:len(fromContent)//2]\n",
    "toFile.write(content)\n",
    "toFile.close()"
   ]
  },
  {
   "cell_type": "code",
   "execution_count": 2,
   "metadata": {},
   "outputs": [
    {
     "name": "stdout",
     "output_type": "stream",
     "text": [
      "0\n2\nllonihao\n10\n"
     ]
    }
   ],
   "source": [
    "# 定位\n",
    "f = open('a.txt', 'r')\n",
    "print(f.tell())     # 查看当前文件指针位置\n",
    "f.seek(2, 0)  # 指明文件指针位置,默认为0（相对文本文件开头），二进制文件用（1，2）1（文件指针当前位置），2（文件指针末尾位置）\n",
    "print(f.tell())\n",
    "print(f.read())\n",
    "print(f.tell())\n",
    "f.close()"
   ]
  },
  {
   "cell_type": "code",
   "execution_count": 3,
   "metadata": {},
   "outputs": [
    {
     "name": "stdout",
     "output_type": "stream",
     "text": [
      "hellonihao\n\n['hellonihao']\nTrue\nhellonihaohellonihao"
     ]
    }
   ],
   "source": [
    "# 读\n",
    "f = open('a.txt', 'r')\n",
    "content = f.readline()      # 每次只读取一行\n",
    "print(content)\n",
    "content = f.readline()\n",
    "print(content, end='')\n",
    "content = f.readline()\n",
    "print(content)\n",
    "\n",
    "f1 = open('a.txt', 'r')\n",
    "c = f1.readlines()      # 会自动将文件按换行符进行处理，将处理好的每一行组成列表返回\n",
    "print(c)\n",
    "f1.close()\n",
    "\n",
    "import collections\n",
    "f2 = open('a.txt', 'r')\n",
    "print(isinstance(f2, collections.Iterator))\n",
    "for i in f2:                # 遍历整个文件f2，文件特别大时推荐使用\n",
    "    print(i, end='')\n",
    "f2.close()\n",
    "\n",
    "f3 = open('a.txt', 'r')\n",
    "if f3.readable():       # 判断文件是否可读\n",
    "    content = f3.readlines()\n",
    "    for i in content:           # 遍历列表\n",
    "        print(i, end='')\n",
    "    f3.close()"
   ]
  },
  {
   "cell_type": "code",
   "execution_count": 4,
   "metadata": {},
   "outputs": [],
   "source": [
    "# 写\n",
    "f = open('a.txt', 'a')      \n",
    "if f.writable():        # 判断文件是否可写\n",
    "    f.write('li')       # 不会立即写入文件中，会先放在缓存区内\n",
    "    f.flush()           # 立即清空缓存区的数据内容到磁盘文件中\n",
    "    f.close()           # 关闭文件：释放系统资源，清空缓存区的数据内容到磁盘文件中"
   ]
  },
  {
   "cell_type": "code",
   "execution_count": null,
   "metadata": {},
   "outputs": [],
   "source": []
  }
 ],
 "metadata": {
  "kernelspec": {
   "display_name": "Python 2",
   "language": "python",
   "name": "python2"
  },
  "language_info": {
   "codemirror_mode": {
    "name": "ipython",
    "version": 2
   },
   "file_extension": ".py",
   "mimetype": "text/x-python",
   "name": "python",
   "nbconvert_exporter": "python",
   "pygments_lexer": "ipython2",
   "version": "2.7.6"
  }
 },
 "nbformat": 4,
 "nbformat_minor": 0
}
