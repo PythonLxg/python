{
 "cells": [
  {
   "cell_type": "code",
   "execution_count": 1,
   "metadata": {
    "collapsed": true
   },
   "outputs": [
    {
     "name": "stdout",
     "output_type": "stream",
     "text": [
      "1 5 --- 6\n2 6 --- 8\n3 7 --- 10\n4 8 --- 12\n"
     ]
    }
   ],
   "source": [
    "# 并行遍历（zip）:当参数长度不一样时，zip会以最短序列的长度来截断所得的元组\n",
    "l1 = [1, 2, 3, 4]\n",
    "l2 = [5, 6, 7, 8]\n",
    "zip(l1, l2)\n",
    "list(zip(l1, l2))\n",
    "\n",
    "for (x, y) in zip(l1, l2):\n",
    "    print(x, y, '---', x+y)\n"
   ]
  },
  {
   "cell_type": "code",
   "execution_count": 2,
   "metadata": {},
   "outputs": [
    {
     "name": "stdout",
     "output_type": "stream",
     "text": [
      "{'name': 'li', 'age': '23', 'height': 170, 'sex': 'nan'}\n"
     ]
    }
   ],
   "source": [
    "# 使用zip构造字典\n",
    "keys = ['name', 'age', 'height', 'sex']\n",
    "values = ['li', '23', 170, 'nan']\n",
    "d = {}\n",
    "for (k, v) in zip(keys, values):\n",
    "    d[k] = v\n",
    "print(d)"
   ]
  },
  {
   "cell_type": "code",
   "execution_count": 3,
   "metadata": {},
   "outputs": [
    {
     "name": "stdout",
     "output_type": "stream",
     "text": [
      "<enumerate object at 0x000001E8AE08A708>\n(0, 's')\n(1, 'p')\n(2, 'a')\ns appears at offset 0\np appears at offset 1\na appears at offset 2\nm appears at offset 3\n"
     ]
    }
   ],
   "source": [
    "# 产生偏移和元素（enumerate）\n",
    "s = 'spam'\n",
    "E = enumerate(s)\n",
    "print(E)\n",
    "print(next(E))\n",
    "print(next(E))\n",
    "print(next(E))\n",
    "for (offset, item) in enumerate(s):\n",
    "    print(item, 'appears at offset', offset)"
   ]
  },
  {
   "cell_type": "code",
   "execution_count": 4,
   "metadata": {},
   "outputs": [
    {
     "data": {
      "text/plain": [
       "['', 'p', 'aa', 'mmm']"
      ]
     },
     "execution_count": 4,
     "metadata": {},
     "output_type": "execute_result"
    }
   ],
   "source": [
    "[s * i for (i, s) in enumerate(s)]"
   ]
  },
  {
   "cell_type": "code",
   "execution_count": null,
   "metadata": {},
   "outputs": [],
   "source": []
  }
 ],
 "metadata": {
  "kernelspec": {
   "display_name": "Python 2",
   "language": "python",
   "name": "python2"
  },
  "language_info": {
   "codemirror_mode": {
    "name": "ipython",
    "version": 2
   },
   "file_extension": ".py",
   "mimetype": "text/x-python",
   "name": "python",
   "nbconvert_exporter": "python",
   "pygments_lexer": "ipython2",
   "version": "2.7.6"
  }
 },
 "nbformat": 4,
 "nbformat_minor": 0
}
